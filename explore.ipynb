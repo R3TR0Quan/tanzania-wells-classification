{
 "cells": [
  {
   "attachments": {},
   "cell_type": "markdown",
   "metadata": {},
   "source": [
    "# Tanzania Water Wells Classificaton Data Exploration and Cleaning"
   ]
  },
  {
   "attachments": {},
   "cell_type": "markdown",
   "metadata": {},
   "source": [
    "## Problem Overview"
   ]
  },
  {
   "attachments": {},
   "cell_type": "markdown",
   "metadata": {},
   "source": [
    "The Tanzania Ministry of Water along with Taarifa, a crowd-source platform, have commisioned the development of a predictive model that is supposed to be able to predict with **water wells** are likely to fail. While much of Tanzanias population has access to basic water services, a large 39% of households still lack this basic need. An estimated 10% of preventable deaths in the country can be attributed to inadequate *wash services*. A predictive model can enable quick **predictive maintenance** on water wells and help ensure water security in many of the rural communities that are disporportionately affected by this problem. "
   ]
  },
  {
   "attachments": {},
   "cell_type": "markdown",
   "metadata": {},
   "source": [
    "* ### Project Objectives"
   ]
  },
  {
   "attachments": {},
   "cell_type": "markdown",
   "metadata": {},
   "source": [
    "1. To conduct exploratory analysis and determine which features to include in our model\n",
    "2. Determine the cleaning steps to be included in building the model pipeline "
   ]
  },
  {
   "attachments": {},
   "cell_type": "markdown",
   "metadata": {},
   "source": [
    "## EDA and Cleaning"
   ]
  },
  {
   "cell_type": "code",
   "execution_count": 1,
   "metadata": {},
   "outputs": [],
   "source": [
    "# import relevant libraries\n",
    "import pandas as pd\n",
    "import numpy as np\n",
    "import matplotlib.pyplot as plt\n",
    "import seaborn as sns\n",
    "import warnings\n",
    "from functions import drop_artefacts_and_nulls\n",
    "\n",
    "warnings.filterwarnings('ignore')\n",
    "%matplotlib inline \n",
    "\n",
    "sns.set_style('darkgrid')"
   ]
  },
  {
   "cell_type": "code",
   "execution_count": 2,
   "metadata": {},
   "outputs": [
    {
     "name": "stdout",
     "output_type": "stream",
     "text": [
      "<class 'pandas.core.frame.DataFrame'>\n",
      "RangeIndex: 59400 entries, 0 to 59399\n",
      "Data columns (total 40 columns):\n",
      " #   Column                 Non-Null Count  Dtype  \n",
      "---  ------                 --------------  -----  \n",
      " 0   id                     59400 non-null  int64  \n",
      " 1   amount_tsh             59400 non-null  float64\n",
      " 2   date_recorded          59400 non-null  object \n",
      " 3   funder                 55765 non-null  object \n",
      " 4   gps_height             59400 non-null  int64  \n",
      " 5   installer              55745 non-null  object \n",
      " 6   longitude              59400 non-null  float64\n",
      " 7   latitude               59400 non-null  float64\n",
      " 8   wpt_name               59400 non-null  object \n",
      " 9   num_private            59400 non-null  int64  \n",
      " 10  basin                  59400 non-null  object \n",
      " 11  subvillage             59029 non-null  object \n",
      " 12  region                 59400 non-null  object \n",
      " 13  region_code            59400 non-null  int64  \n",
      " 14  district_code          59400 non-null  int64  \n",
      " 15  lga                    59400 non-null  object \n",
      " 16  ward                   59400 non-null  object \n",
      " 17  population             59400 non-null  int64  \n",
      " 18  public_meeting         56066 non-null  object \n",
      " 19  recorded_by            59400 non-null  object \n",
      " 20  scheme_management      55523 non-null  object \n",
      " 21  scheme_name            31234 non-null  object \n",
      " 22  permit                 56344 non-null  object \n",
      " 23  construction_year      59400 non-null  int64  \n",
      " 24  extraction_type        59400 non-null  object \n",
      " 25  extraction_type_group  59400 non-null  object \n",
      " 26  extraction_type_class  59400 non-null  object \n",
      " 27  management             59400 non-null  object \n",
      " 28  management_group       59400 non-null  object \n",
      " 29  payment                59400 non-null  object \n",
      " 30  payment_type           59400 non-null  object \n",
      " 31  water_quality          59400 non-null  object \n",
      " 32  quality_group          59400 non-null  object \n",
      " 33  quantity               59400 non-null  object \n",
      " 34  quantity_group         59400 non-null  object \n",
      " 35  source                 59400 non-null  object \n",
      " 36  source_type            59400 non-null  object \n",
      " 37  source_class           59400 non-null  object \n",
      " 38  waterpoint_type        59400 non-null  object \n",
      " 39  waterpoint_type_group  59400 non-null  object \n",
      "dtypes: float64(3), int64(7), object(30)\n",
      "memory usage: 18.1+ MB\n"
     ]
    }
   ],
   "source": [
    "# import and view data\n",
    "train_set = pd.read_csv('Data/train_set.csv')\n",
    "train_set_labels = pd.read_csv('Data/train_set_labels.csv')\n",
    "train_set.info()"
   ]
  },
  {
   "attachments": {},
   "cell_type": "markdown",
   "metadata": {},
   "source": [
    ">> ### Examine some columns to determine which ones are irrelevant"
   ]
  },
  {
   "attachments": {},
   "cell_type": "markdown",
   "metadata": {},
   "source": [
    "From the [data documentation](https://www.drivendata.org/competitions/7/pump-it-up-data-mining-the-water-table/page/25/#sub_values) features such as `wpt_name` and `id` are artefacts and irrelevant to predictive modelling thus shall be added to a list of features to be dropped by the function *drop_irrelevant_cols*"
   ]
  },
  {
   "cell_type": "code",
   "execution_count": 3,
   "metadata": {},
   "outputs": [
    {
     "data": {
      "text/plain": [
       "GeoData Consultants Ltd    59400\n",
       "Name: recorded_by, dtype: int64"
      ]
     },
     "execution_count": 3,
     "metadata": {},
     "output_type": "execute_result"
    }
   ],
   "source": [
    "#examine 'recorded_by'\n",
    "train_set['recorded_by'].value_counts()"
   ]
  },
  {
   "attachments": {},
   "cell_type": "markdown",
   "metadata": {},
   "source": [
    ">> * `recorded_by` should be dropped as it is irrelevant"
   ]
  },
  {
   "cell_type": "code",
   "execution_count": 4,
   "metadata": {},
   "outputs": [
    {
     "data": {
      "text/plain": [
       "Text(0.5, 1.0, 'Payment')"
      ]
     },
     "execution_count": 4,
     "metadata": {},
     "output_type": "execute_result"
    },
    {
     "data": {
      "image/png": "[encoded data removed]",
      "text/plain": [
       "<Figure size 432x288 with 1 Axes>"
      ]
     },
     "metadata": {},
     "output_type": "display_data"
    }
   ],
   "source": [
    "#Examine 'payment'\n",
    "train_set['payment'].value_counts().plot(kind='bar')\n",
    "plt.title('Payment')"
   ]
  },
  {
   "cell_type": "code",
   "execution_count": 5,
   "metadata": {},
   "outputs": [
    {
     "data": {
      "text/plain": [
       "Text(0.5, 1.0, 'Payment_type')"
      ]
     },
     "execution_count": 5,
     "metadata": {},
     "output_type": "execute_result"
    },
    {
     "data": {
      "image/png": "[encoded data removed]",
      "text/plain": [
       "<Figure size 432x288 with 1 Axes>"
      ]
     },
     "metadata": {},
     "output_type": "display_data"
    }
   ],
   "source": [
    "train_set['payment_type'].value_counts().plot(kind='bar')\n",
    "plt.title('Payment_type')"
   ]
  },
  {
   "attachments": {},
   "cell_type": "markdown",
   "metadata": {},
   "source": [
    ">> * `payment` and `payment_type` have the same information and are both irrelevant for modelling."
   ]
  },
  {
   "cell_type": "code",
   "execution_count": 6,
   "metadata": {},
   "outputs": [
    {
     "name": "stdout",
     "output_type": "stream",
     "text": [
      "<class 'pandas.core.frame.DataFrame'>\n",
      "RangeIndex: 59400 entries, 0 to 59399\n",
      "Data columns (total 2 columns):\n",
      " #   Column        Non-Null Count  Dtype \n",
      "---  ------        --------------  ----- \n",
      " 0   id            59400 non-null  int64 \n",
      " 1   status_group  59400 non-null  object\n",
      "dtypes: int64(1), object(1)\n",
      "memory usage: 928.2+ KB\n"
     ]
    }
   ],
   "source": [
    "#labels\n",
    "train_set_labels.info()"
   ]
  },
  {
   "cell_type": "code",
   "execution_count": 7,
   "metadata": {},
   "outputs": [
    {
     "name": "stdout",
     "output_type": "stream",
     "text": [
      "<class 'pandas.core.frame.DataFrame'>\n",
      "RangeIndex: 14850 entries, 0 to 14849\n",
      "Data columns (total 40 columns):\n",
      " #   Column                 Non-Null Count  Dtype  \n",
      "---  ------                 --------------  -----  \n",
      " 0   id                     14850 non-null  int64  \n",
      " 1   amount_tsh             14850 non-null  float64\n",
      " 2   date_recorded          14850 non-null  object \n",
      " 3   funder                 13981 non-null  object \n",
      " 4   gps_height             14850 non-null  int64  \n",
      " 5   installer              13973 non-null  object \n",
      " 6   longitude              14850 non-null  float64\n",
      " 7   latitude               14850 non-null  float64\n",
      " 8   wpt_name               14850 non-null  object \n",
      " 9   num_private            14850 non-null  int64  \n",
      " 10  basin                  14850 non-null  object \n",
      " 11  subvillage             14751 non-null  object \n",
      " 12  region                 14850 non-null  object \n",
      " 13  region_code            14850 non-null  int64  \n",
      " 14  district_code          14850 non-null  int64  \n",
      " 15  lga                    14850 non-null  object \n",
      " 16  ward                   14850 non-null  object \n",
      " 17  population             14850 non-null  int64  \n",
      " 18  public_meeting         14029 non-null  object \n",
      " 19  recorded_by            14850 non-null  object \n",
      " 20  scheme_management      13881 non-null  object \n",
      " 21  scheme_name            7758 non-null   object \n",
      " 22  permit                 14113 non-null  object \n",
      " 23  construction_year      14850 non-null  int64  \n",
      " 24  extraction_type        14850 non-null  object \n",
      " 25  extraction_type_group  14850 non-null  object \n",
      " 26  extraction_type_class  14850 non-null  object \n",
      " 27  management             14850 non-null  object \n",
      " 28  management_group       14850 non-null  object \n",
      " 29  payment                14850 non-null  object \n",
      " 30  payment_type           14850 non-null  object \n",
      " 31  water_quality          14850 non-null  object \n",
      " 32  quality_group          14850 non-null  object \n",
      " 33  quantity               14850 non-null  object \n",
      " 34  quantity_group         14850 non-null  object \n",
      " 35  source                 14850 non-null  object \n",
      " 36  source_type            14850 non-null  object \n",
      " 37  source_class           14850 non-null  object \n",
      " 38  waterpoint_type        14850 non-null  object \n",
      " 39  waterpoint_type_group  14850 non-null  object \n",
      "dtypes: float64(3), int64(7), object(30)\n",
      "memory usage: 4.5+ MB\n"
     ]
    }
   ],
   "source": [
    "#examin test set\n",
    "test_set = pd.read_csv('Data/test_set.csv')\n",
    "test_set.info()"
   ]
  },
  {
   "cell_type": "code",
   "execution_count": 8,
   "metadata": {},
   "outputs": [
    {
     "name": "stdout",
     "output_type": "stream",
     "text": [
      "Labels: ['functional' 'non functional' 'functional needs repair']\n"
     ]
    }
   ],
   "source": [
    "print('Labels:', train_set_labels['status_group'].unique())"
   ]
  },
  {
   "attachments": {},
   "cell_type": "markdown",
   "metadata": {},
   "source": [
    "> * The problem is *ternary*. Need to modify it to approach it as a *binary* classification problem."
   ]
  },
  {
   "cell_type": "code",
   "execution_count": 9,
   "metadata": {},
   "outputs": [
    {
     "data": {
      "text/html": [
       "<div>\n",
       "<style scoped>\n",
       "    .dataframe tbody tr th:only-of-type {\n",
       "        vertical-align: middle;\n",
       "    }\n",
       "\n",
       "    .dataframe tbody tr th {\n",
       "        vertical-align: top;\n",
       "    }\n",
       "\n",
       "    .dataframe thead th {\n",
       "        text-align: right;\n",
       "    }\n",
       "</style>\n",
       "<table border=\"1\" class=\"dataframe\">\n",
       "  <thead>\n",
       "    <tr style=\"text-align: right;\">\n",
       "      <th></th>\n",
       "      <th>id</th>\n",
       "      <th>amount_tsh</th>\n",
       "      <th>date_recorded</th>\n",
       "      <th>funder</th>\n",
       "      <th>gps_height</th>\n",
       "      <th>installer</th>\n",
       "      <th>longitude</th>\n",
       "      <th>latitude</th>\n",
       "      <th>wpt_name</th>\n",
       "      <th>num_private</th>\n",
       "      <th>...</th>\n",
       "      <th>water_quality</th>\n",
       "      <th>quality_group</th>\n",
       "      <th>quantity</th>\n",
       "      <th>quantity_group</th>\n",
       "      <th>source</th>\n",
       "      <th>source_type</th>\n",
       "      <th>source_class</th>\n",
       "      <th>waterpoint_type</th>\n",
       "      <th>waterpoint_type_group</th>\n",
       "      <th>status_group</th>\n",
       "    </tr>\n",
       "  </thead>\n",
       "  <tbody>\n",
       "    <tr>\n",
       "      <th>0</th>\n",
       "      <td>69572</td>\n",
       "      <td>6000.0</td>\n",
       "      <td>2011-03-14</td>\n",
       "      <td>Roman</td>\n",
       "      <td>1390</td>\n",
       "      <td>Roman</td>\n",
       "      <td>34.938093</td>\n",
       "      <td>-9.856322</td>\n",
       "      <td>none</td>\n",
       "      <td>0</td>\n",
       "      <td>...</td>\n",
       "      <td>soft</td>\n",
       "      <td>good</td>\n",
       "      <td>enough</td>\n",
       "      <td>enough</td>\n",
       "      <td>spring</td>\n",
       "      <td>spring</td>\n",
       "      <td>groundwater</td>\n",
       "      <td>communal standpipe</td>\n",
       "      <td>communal standpipe</td>\n",
       "      <td>functional</td>\n",
       "    </tr>\n",
       "    <tr>\n",
       "      <th>1</th>\n",
       "      <td>8776</td>\n",
       "      <td>0.0</td>\n",
       "      <td>2013-03-06</td>\n",
       "      <td>Grumeti</td>\n",
       "      <td>1399</td>\n",
       "      <td>GRUMETI</td>\n",
       "      <td>34.698766</td>\n",
       "      <td>-2.147466</td>\n",
       "      <td>Zahanati</td>\n",
       "      <td>0</td>\n",
       "      <td>...</td>\n",
       "      <td>soft</td>\n",
       "      <td>good</td>\n",
       "      <td>insufficient</td>\n",
       "      <td>insufficient</td>\n",
       "      <td>rainwater harvesting</td>\n",
       "      <td>rainwater harvesting</td>\n",
       "      <td>surface</td>\n",
       "      <td>communal standpipe</td>\n",
       "      <td>communal standpipe</td>\n",
       "      <td>functional</td>\n",
       "    </tr>\n",
       "    <tr>\n",
       "      <th>2</th>\n",
       "      <td>34310</td>\n",
       "      <td>25.0</td>\n",
       "      <td>2013-02-25</td>\n",
       "      <td>Lottery Club</td>\n",
       "      <td>686</td>\n",
       "      <td>World vision</td>\n",
       "      <td>37.460664</td>\n",
       "      <td>-3.821329</td>\n",
       "      <td>Kwa Mahundi</td>\n",
       "      <td>0</td>\n",
       "      <td>...</td>\n",
       "      <td>soft</td>\n",
       "      <td>good</td>\n",
       "      <td>enough</td>\n",
       "      <td>enough</td>\n",
       "      <td>dam</td>\n",
       "      <td>dam</td>\n",
       "      <td>surface</td>\n",
       "      <td>communal standpipe multiple</td>\n",
       "      <td>communal standpipe</td>\n",
       "      <td>functional</td>\n",
       "    </tr>\n",
       "    <tr>\n",
       "      <th>3</th>\n",
       "      <td>67743</td>\n",
       "      <td>0.0</td>\n",
       "      <td>2013-01-28</td>\n",
       "      <td>Unicef</td>\n",
       "      <td>263</td>\n",
       "      <td>UNICEF</td>\n",
       "      <td>38.486161</td>\n",
       "      <td>-11.155298</td>\n",
       "      <td>Zahanati Ya Nanyumbu</td>\n",
       "      <td>0</td>\n",
       "      <td>...</td>\n",
       "      <td>soft</td>\n",
       "      <td>good</td>\n",
       "      <td>dry</td>\n",
       "      <td>dry</td>\n",
       "      <td>machine dbh</td>\n",
       "      <td>borehole</td>\n",
       "      <td>groundwater</td>\n",
       "      <td>communal standpipe multiple</td>\n",
       "      <td>communal standpipe</td>\n",
       "      <td>non functional</td>\n",
       "    </tr>\n",
       "    <tr>\n",
       "      <th>4</th>\n",
       "      <td>19728</td>\n",
       "      <td>0.0</td>\n",
       "      <td>2011-07-13</td>\n",
       "      <td>Action In A</td>\n",
       "      <td>0</td>\n",
       "      <td>Artisan</td>\n",
       "      <td>31.130847</td>\n",
       "      <td>-1.825359</td>\n",
       "      <td>Shuleni</td>\n",
       "      <td>0</td>\n",
       "      <td>...</td>\n",
       "      <td>soft</td>\n",
       "      <td>good</td>\n",
       "      <td>seasonal</td>\n",
       "      <td>seasonal</td>\n",
       "      <td>rainwater harvesting</td>\n",
       "      <td>rainwater harvesting</td>\n",
       "      <td>surface</td>\n",
       "      <td>communal standpipe</td>\n",
       "      <td>communal standpipe</td>\n",
       "      <td>functional</td>\n",
       "    </tr>\n",
       "  </tbody>\n",
       "</table>\n",
       "<p>5 rows × 41 columns</p>\n",
       "</div>"
      ],
      "text/plain": [
       "      id  amount_tsh date_recorded        funder  gps_height     installer  \\\n",
       "0  69572      6000.0    2011-03-14         Roman        1390         Roman   \n",
       "1   8776         0.0    2013-03-06       Grumeti        1399       GRUMETI   \n",
       "2  34310        25.0    2013-02-25  Lottery Club         686  World vision   \n",
       "3  67743         0.0    2013-01-28        Unicef         263        UNICEF   \n",
       "4  19728         0.0    2011-07-13   Action In A           0       Artisan   \n",
       "\n",
       "   longitude   latitude              wpt_name  num_private  ... water_quality  \\\n",
       "0  34.938093  -9.856322                  none            0  ...          soft   \n",
       "1  34.698766  -2.147466              Zahanati            0  ...          soft   \n",
       "2  37.460664  -3.821329           Kwa Mahundi            0  ...          soft   \n",
       "3  38.486161 -11.155298  Zahanati Ya Nanyumbu            0  ...          soft   \n",
       "4  31.130847  -1.825359               Shuleni            0  ...          soft   \n",
       "\n",
       "  quality_group      quantity  quantity_group                source  \\\n",
       "0          good        enough          enough                spring   \n",
       "1          good  insufficient    insufficient  rainwater harvesting   \n",
       "2          good        enough          enough                   dam   \n",
       "3          good           dry             dry           machine dbh   \n",
       "4          good      seasonal        seasonal  rainwater harvesting   \n",
       "\n",
       "            source_type source_class              waterpoint_type  \\\n",
       "0                spring  groundwater           communal standpipe   \n",
       "1  rainwater harvesting      surface           communal standpipe   \n",
       "2                   dam      surface  communal standpipe multiple   \n",
       "3              borehole  groundwater  communal standpipe multiple   \n",
       "4  rainwater harvesting      surface           communal standpipe   \n",
       "\n",
       "  waterpoint_type_group    status_group  \n",
       "0    communal standpipe      functional  \n",
       "1    communal standpipe      functional  \n",
       "2    communal standpipe      functional  \n",
       "3    communal standpipe  non functional  \n",
       "4    communal standpipe      functional  \n",
       "\n",
       "[5 rows x 41 columns]"
      ]
     },
     "execution_count": 9,
     "metadata": {},
     "output_type": "execute_result"
    }
   ],
   "source": [
    "#merge predictors and labels for eda\n",
    "labelled_train_set = pd.merge(train_set, train_set_labels, on='id')\n",
    "labelled_train_set.head()"
   ]
  },
  {
   "cell_type": "code",
   "execution_count": 10,
   "metadata": {},
   "outputs": [
    {
     "data": {
      "image/png": "[encoded data removed]",
      "text/plain": [
       "<Figure size 576x432 with 1 Axes>"
      ]
     },
     "metadata": {},
     "output_type": "display_data"
    }
   ],
   "source": [
    "#plot pie chart of status_groups\n",
    "plt.figure(figsize=(8,6))\n",
    "sns.countplot(x='status_group', data=labelled_train_set)\n",
    "plt.title('Pie Chart of status_groups')\n",
    "plt.show()"
   ]
  },
  {
   "attachments": {},
   "cell_type": "markdown",
   "metadata": {},
   "source": [
    "> * It would be best to convert `functional needs repair` and `non functional` into a single column to make the problem binary"
   ]
  },
  {
   "cell_type": "code",
   "execution_count": 11,
   "metadata": {},
   "outputs": [
    {
     "data": {
      "image/png": "[encoded data removed]",
      "text/plain": [
       "<Figure size 432x288 with 1 Axes>"
      ]
     },
     "metadata": {},
     "output_type": "display_data"
    }
   ],
   "source": [
    "#change subgroup names and convert to binary\n",
    "labelled_train_set['status_group'] = labelled_train_set['status_group'].replace(['functional needs repair', 'non functional'], 'needs_repair')\n",
    "labelled_train_set['status_group'].value_counts().plot(kind='pie');"
   ]
  },
  {
   "attachments": {},
   "cell_type": "markdown",
   "metadata": {},
   "source": [
    ">> * There is an acceptable level of class imbalance "
   ]
  },
  {
   "cell_type": "code",
   "execution_count": 12,
   "metadata": {},
   "outputs": [
    {
     "name": "stdout",
     "output_type": "stream",
     "text": [
      "<class 'pandas.core.frame.DataFrame'>\n",
      "Int64Index: 59400 entries, 0 to 59399\n",
      "Data columns (total 41 columns):\n",
      " #   Column                 Non-Null Count  Dtype  \n",
      "---  ------                 --------------  -----  \n",
      " 0   id                     59400 non-null  int64  \n",
      " 1   amount_tsh             59400 non-null  float64\n",
      " 2   date_recorded          59400 non-null  object \n",
      " 3   funder                 55765 non-null  object \n",
      " 4   gps_height             59400 non-null  int64  \n",
      " 5   installer              55745 non-null  object \n",
      " 6   longitude              59400 non-null  float64\n",
      " 7   latitude               59400 non-null  float64\n",
      " 8   wpt_name               59400 non-null  object \n",
      " 9   num_private            59400 non-null  int64  \n",
      " 10  basin                  59400 non-null  object \n",
      " 11  subvillage             59029 non-null  object \n",
      " 12  region                 59400 non-null  object \n",
      " 13  region_code            59400 non-null  int64  \n",
      " 14  district_code          59400 non-null  int64  \n",
      " 15  lga                    59400 non-null  object \n",
      " 16  ward                   59400 non-null  object \n",
      " 17  population             59400 non-null  int64  \n",
      " 18  public_meeting         56066 non-null  object \n",
      " 19  recorded_by            59400 non-null  object \n",
      " 20  scheme_management      55523 non-null  object \n",
      " 21  scheme_name            31234 non-null  object \n",
      " 22  permit                 56344 non-null  object \n",
      " 23  construction_year      59400 non-null  int64  \n",
      " 24  extraction_type        59400 non-null  object \n",
      " 25  extraction_type_group  59400 non-null  object \n",
      " 26  extraction_type_class  59400 non-null  object \n",
      " 27  management             59400 non-null  object \n",
      " 28  management_group       59400 non-null  object \n",
      " 29  payment                59400 non-null  object \n",
      " 30  payment_type           59400 non-null  object \n",
      " 31  water_quality          59400 non-null  object \n",
      " 32  quality_group          59400 non-null  object \n",
      " 33  quantity               59400 non-null  object \n",
      " 34  quantity_group         59400 non-null  object \n",
      " 35  source                 59400 non-null  object \n",
      " 36  source_type            59400 non-null  object \n",
      " 37  source_class           59400 non-null  object \n",
      " 38  waterpoint_type        59400 non-null  object \n",
      " 39  waterpoint_type_group  59400 non-null  object \n",
      " 40  status_group           59400 non-null  object \n",
      "dtypes: float64(3), int64(7), object(31)\n",
      "memory usage: 21.5+ MB\n"
     ]
    }
   ],
   "source": [
    "labelled_train_set.info()"
   ]
  },
  {
   "cell_type": "code",
   "execution_count": 13,
   "metadata": {},
   "outputs": [
    {
     "name": "stdout",
     "output_type": "stream",
     "text": [
      "shape: (59400, 41)\n",
      "categorical columns: ['date_recorded' 'funder' 'installer' 'wpt_name' 'basin' 'subvillage'\n",
      " 'region' 'lga' 'ward' 'public_meeting' 'recorded_by' 'scheme_management'\n",
      " 'scheme_name' 'permit' 'extraction_type' 'extraction_type_group'\n",
      " 'extraction_type_class' 'management' 'management_group' 'payment'\n",
      " 'payment_type' 'water_quality' 'quality_group' 'quantity'\n",
      " 'quantity_group' 'source' 'source_type' 'source_class' 'waterpoint_type'\n",
      " 'waterpoint_type_group' 'status_group']\n",
      "numerical columns: ['id' 'amount_tsh' 'gps_height' 'longitude' 'latitude' 'num_private'\n",
      " 'region_code' 'district_code' 'population' 'construction_year']\n"
     ]
    }
   ],
   "source": [
    "#shape\n",
    "categorical = labelled_train_set.select_dtypes(include='object').columns\n",
    "numerical = labelled_train_set.select_dtypes(include='number').columns\n",
    "print('shape:', labelled_train_set.shape)\n",
    "print('categorical columns:', categorical.values)\n",
    "print('numerical columns:', numerical.values)"
   ]
  },
  {
   "attachments": {},
   "cell_type": "markdown",
   "metadata": {},
   "source": [
    "### Redundant Columns"
   ]
  },
  {
   "cell_type": "code",
   "execution_count": 14,
   "metadata": {},
   "outputs": [
    {
     "name": "stdout",
     "output_type": "stream",
     "text": [
      "date_recorded values:\n",
      "['2011-03-14' '2013-03-06' '2013-02-25' '2013-01-28' '2011-07-13'\n",
      " '2011-03-13' '2012-10-01' '2012-10-09' '2012-11-03' '2011-08-03'\n",
      " '2011-02-20' '2013-02-18' '2012-10-14' '2013-03-15' '2012-10-20'\n",
      " '2011-08-04' '2011-07-04' '2011-09-04' '2011-07-22' '2011-02-22'\n",
      " '2011-02-27' '2013-02-10' '2011-10-04' '2013-11-03' '2013-01-21'\n",
      " '2013-01-16' '2011-07-11' '2013-03-05' '2013-03-16' '2011-03-23'\n",
      " '2011-03-16' '2013-03-19' '2011-03-11' '2011-02-23' '2013-03-28'\n",
      " '2011-07-16' '2011-03-27' '2013-02-11' '2013-10-03' '2011-03-12'\n",
      " '2011-07-07' '2013-01-15' '2013-03-18' '2012-10-22' '2013-02-05'\n",
      " '2011-07-27' '2011-04-04' '2013-02-21' '2011-08-18' '2011-07-31'\n",
      " '2011-08-01' '2011-07-14' '2013-02-22' '2013-07-03' '2013-08-03'\n",
      " '2013-01-22' '2011-03-22' '2013-05-03' '2013-01-19' '2013-02-09'\n",
      " '2011-01-04' '2013-02-04' '2011-03-05' '2011-03-31' '2013-02-27'\n",
      " '2011-08-07' '2011-03-30' '2012-10-23' '2011-03-02' '2011-03-04'\n",
      " '2013-03-14' '2012-10-18' '2011-08-08' '2011-09-05' '2011-04-11'\n",
      " '2013-01-17' '2013-01-20' '2013-01-27' '2013-02-19' '2012-10-06'\n",
      " '2013-02-13' '2013-02-26' '2013-02-16' '2013-02-17' '2011-07-21'\n",
      " '2011-03-07' '2011-07-12' '2011-07-17' '2011-04-07' '2011-04-10'\n",
      " '2012-10-29' '2011-02-25' '2012-10-11' '2013-02-14' '2012-10-05'\n",
      " '2011-07-19' '2011-04-15' '2011-03-17' '2013-01-25' '2011-10-07'\n",
      " '2011-02-24' '2013-03-21' '2011-08-02' '2011-02-03' '2013-01-24'\n",
      " '2012-10-21' '2011-04-16' '2013-02-03' '2013-02-24' '2011-04-02'\n",
      " '2012-10-19' '2013-01-30' '2011-03-03' '2011-08-17' '2011-03-28'\n",
      " '2011-07-23' '2013-02-06' '2011-08-11' '2011-03-09' '2011-03-18'\n",
      " '2013-03-07' '2011-08-14' '2013-09-03' '2011-02-16' '2011-04-03'\n",
      " '2011-07-09' '2011-04-12' '2011-04-14' '2011-03-10' '2013-03-25'\n",
      " '2013-02-28' '2013-01-18' '2012-10-10' '2011-07-03' '2011-08-05'\n",
      " '2011-07-20' '2013-03-13' '2011-03-15' '2011-07-18' '2013-03-03'\n",
      " '2011-11-07' '2013-04-04' '2012-10-16' '2013-03-23' '2013-04-03'\n",
      " '2013-02-08' '2011-03-21' '2011-04-05' '2012-10-15' '2011-03-19'\n",
      " '2013-06-03' '2013-03-29' '2012-10-28' '2011-07-15' '2012-10-12'\n",
      " '2011-07-29' '2011-08-06' '2012-10-13' '2013-03-02' '2013-02-12'\n",
      " '2013-01-29' '2013-01-04' '2012-10-25' '2012-11-13' '2013-02-01'\n",
      " '2011-08-10' '2013-03-17' '2011-07-30' '2011-02-21' '2011-02-17'\n",
      " '2011-08-19' '2013-02-15' '2013-02-02' '2013-01-26' '2011-04-06'\n",
      " '2011-08-21' '2013-03-24' '2013-10-02' '2011-04-01' '2013-02-23'\n",
      " '2013-02-20' '2011-04-08' '2011-03-29' '2011-03-25' '2013-03-01'\n",
      " '2013-05-04' '2012-11-05' '2011-03-24' '2011-03-20' '2013-03-04'\n",
      " '2012-10-26' '2013-06-04' '2011-08-20' '2013-02-07' '2011-07-24'\n",
      " '2011-07-25' '2013-03-22' '2013-08-02' '2011-07-28' '2013-03-12'\n",
      " '2013-03-30' '2013-12-03' '2011-03-26' '2011-03-08' '2013-01-23'\n",
      " '2012-11-04' '2012-10-02' '2012-10-07' '2011-04-18' '2012-11-15'\n",
      " '2011-08-12' '2011-08-23' '2012-10-08' '2011-02-26' '2013-03-26'\n",
      " '2011-03-01' '2012-12-14' '2011-02-14' '2013-01-14' '2012-10-04'\n",
      " '2011-07-26' '2012-10-27' '2012-10-17' '2013-09-02' '2012-10-03'\n",
      " '2013-03-20' '2012-11-08' '2011-02-15' '2012-10-24' '2013-03-10'\n",
      " '2011-07-06' '2011-07-08' '2012-12-13' '2011-08-25' '2004-08-01'\n",
      " '2011-04-09' '2012-10-31' '2011-03-06' '2013-07-02' '2012-11-12'\n",
      " '2011-02-28' '2011-02-02' '2013-01-31' '2011-07-10' '2011-04-17'\n",
      " '2011-07-05' '2011-06-04' '2011-08-22' '2011-01-03' '2013-01-13'\n",
      " '2012-11-09' '2013-01-11' '2011-01-08' '2013-07-04' '2011-02-18'\n",
      " '2011-08-13' '2012-11-06' '2011-06-03' '2013-01-12' '2013-03-08'\n",
      " '2004-12-01' '2012-12-16' '2011-04-13' '2012-11-01' '2013-03-27'\n",
      " '2011-12-03' '2013-01-08' '2011-04-19' '2012-12-15' '2012-10-30'\n",
      " '2011-08-16' '2013-01-07' '2013-01-03' '2013-05-02' '2011-08-15'\n",
      " '2011-02-19' '2011-11-03' '2011-04-21' '2013-01-10' '2012-11-10'\n",
      " '2011-12-07' '2012-11-11' '2011-10-03' '2011-08-26' '2011-04-22'\n",
      " '2011-08-09' '2011-06-07' '2002-10-14' '2013-03-09' '2011-02-04'\n",
      " '2013-01-09' '2012-12-12' '2012-11-14' '2012-12-11' '2011-04-20'\n",
      " '2012-12-18' '2011-08-27' '2013-12-02' '2013-11-02' '2011-09-27'\n",
      " '2011-08-24' '2011-09-03' '2012-11-29' '2011-09-19' '2012-12-21'\n",
      " '2012-11-02' '2013-03-11' '2012-11-19' '2011-05-03' '2012-12-10'\n",
      " '2011-11-04' '2004-05-01' '2004-04-05' '2012-12-17' '2012-11-07'\n",
      " '2012-11-30' '2004-06-01' '2011-05-07' '2012-12-23' '2011-09-09'\n",
      " '2012-12-24' '2011-05-04' '2011-04-23' '2013-04-02' '2011-02-01'\n",
      " '2011-09-18' '2011-09-06' '2011-09-20' '2004-03-01' '2011-09-17'\n",
      " '2013-01-01' '2004-01-07' '2004-07-01' '2011-09-11' '2011-08-31'\n",
      " '2011-09-21' '2011-08-30' '2011-08-28' '2011-09-01' '2011-09-28'\n",
      " '2011-09-16' '2011-09-13' '2011-09-08' '2011-09-23' '2013-01-06'\n",
      " '2011-09-14' '2004-03-06' '2012-01-21' '2012-01-25' '2011-09-15'\n",
      " '2011-09-25' '2004-09-01' '2004-04-01' '2011-09-26' '2011-09-12'\n",
      " '2013-12-01']\n",
      "\n",
      "funder values:\n",
      "['Roman' 'Grumeti' 'Lottery Club' ... 'Dina' 'Brown' 'Samlo']\n",
      "\n",
      "installer values:\n",
      "['Roman' 'GRUMETI' 'World vision' ... 'Dina' 'brown' 'SELEPTA']\n",
      "\n",
      "wpt_name values:\n",
      "['none' 'Zahanati' 'Kwa Mahundi' ... 'Kwa Yahona Kuvala' 'Mshoro'\n",
      " 'Kwa Mzee Lugawa']\n",
      "\n",
      "basin values:\n",
      "['Lake Nyasa' 'Lake Victoria' 'Pangani' 'Ruvuma / Southern Coast'\n",
      " 'Internal' 'Lake Tanganyika' 'Wami / Ruvu' 'Rufiji' 'Lake Rukwa']\n",
      "\n",
      "subvillage values:\n",
      "['Mnyusi B' 'Nyamara' 'Majengo' ... 'Itete B' 'Maore Kati' 'Kikatanyemba']\n",
      "\n",
      "region values:\n",
      "['Iringa' 'Mara' 'Manyara' 'Mtwara' 'Kagera' 'Tanga' 'Shinyanga' 'Tabora'\n",
      " 'Pwani' 'Ruvuma' 'Kilimanjaro' 'Rukwa' 'Mwanza' 'Kigoma' 'Lindi' 'Dodoma'\n",
      " 'Arusha' 'Mbeya' 'Singida' 'Morogoro' 'Dar es Salaam']\n",
      "\n",
      "lga values:\n",
      "['Ludewa' 'Serengeti' 'Simanjiro' 'Nanyumbu' 'Karagwe' 'Mkinga'\n",
      " 'Shinyanga Rural' 'Kahama' 'Tabora Urban' 'Mkuranga' 'Namtumbo' 'Maswa'\n",
      " 'Siha' 'Meatu' 'Sumbawanga Rural' 'Njombe' 'Ukerewe' 'Bariadi' 'Same'\n",
      " 'Kigoma Rural' 'Moshi Rural' 'Lindi Rural' 'Rombo' 'Chamwino' 'Bagamoyo'\n",
      " 'Mafia' 'Arusha Rural' 'Kyela' 'Kondoa' 'Kilolo' 'Kibondo' 'Makete'\n",
      " 'Singida Rural' 'Masasi' 'Rungwe' 'Moshi Urban' 'Geita' 'Mbulu'\n",
      " 'Bukoba Rural' 'Muheza' 'Lushoto' 'Meru' 'Iramba' 'Kilombero' 'Mbarali'\n",
      " 'Kasulu' 'Bukoba Urban' 'Korogwe' 'Bukombe' 'Morogoro Rural' 'Kishapu'\n",
      " 'Musoma Rural' 'Sengerema' 'Iringa Rural' 'Muleba' 'Dodoma Urban'\n",
      " 'Ruangwa' 'Hanang' 'Misenyi' 'Missungwi' 'Songea Rural' 'Tanga' 'Tunduru'\n",
      " 'Hai' 'Mwanga' 'Chato' 'Biharamulo' 'Ileje' 'Mpwapwa' 'Mvomero' 'Bunda'\n",
      " 'Kiteto' 'Longido' 'Urambo' 'Mbozi' 'Sikonge' 'Ilala' 'Tarime' 'Temeke'\n",
      " 'Mbeya Rural' 'Magu' 'Manyoni' 'Igunga' 'Kilosa' 'Babati' 'Chunya'\n",
      " 'Mufindi' 'Mtwara Rural' 'Ngara' 'Karatu' 'Mpanda' 'Kibaha'\n",
      " 'Singida Urban' 'Newala' 'Nzega' 'Nkasi' 'Bahi' 'Mbinga' 'Ulanga'\n",
      " 'Sumbawanga Urban' 'Morogoro Urban' 'Tandahimba' 'Kisarawe'\n",
      " 'Mtwara Urban' 'Kilwa' 'Liwale' 'Kongwa' 'Uyui' 'Rufiji' 'Kwimba'\n",
      " 'Monduli' 'Shinyanga Urban' 'Ngorongoro' 'Handeni' 'Rorya' 'Pangani'\n",
      " 'Lindi Urban' 'Nachingwea' 'Kinondoni' 'Kigoma Urban' 'Ilemela' 'Kilindi'\n",
      " 'Arusha Urban' 'Songea Urban' 'Nyamagana']\n",
      "\n",
      "ward values:\n",
      "['Mundindi' 'Natta' 'Ngorika' ... 'Chinugulu' 'Nyamtinga' 'Kinungu']\n",
      "\n",
      "public_meeting values:\n",
      "[True nan False]\n",
      "\n",
      "recorded_by values:\n",
      "['GeoData Consultants Ltd']\n",
      "\n",
      "scheme_management values:\n",
      "['VWC' 'Other' nan 'Private operator' 'WUG' 'Water Board' 'WUA'\n",
      " 'Water authority' 'Company' 'Parastatal' 'Trust' 'SWC' 'None']\n",
      "\n",
      "scheme_name values:\n",
      "['Roman' nan 'Nyumba ya mungu pipe scheme' ... 'BL Nsherehehe'\n",
      " 'Magati  gravity spri' 'Mtawanya']\n",
      "\n",
      "permit values:\n",
      "[False True nan]\n",
      "\n",
      "extraction_type values:\n",
      "['gravity' 'submersible' 'swn 80' 'nira/tanira' 'india mark ii' 'other'\n",
      " 'ksb' 'mono' 'windmill' 'afridev' 'other - rope pump' 'india mark iii'\n",
      " 'other - swn 81' 'other - play pump' 'cemo' 'climax' 'walimi'\n",
      " 'other - mkulima/shinyanga']\n",
      "\n",
      "extraction_type_group values:\n",
      "['gravity' 'submersible' 'swn 80' 'nira/tanira' 'india mark ii' 'other'\n",
      " 'mono' 'wind-powered' 'afridev' 'rope pump' 'india mark iii'\n",
      " 'other handpump' 'other motorpump']\n",
      "\n",
      "extraction_type_class values:\n",
      "['gravity' 'submersible' 'handpump' 'other' 'motorpump' 'wind-powered'\n",
      " 'rope pump']\n",
      "\n",
      "management values:\n",
      "['vwc' 'wug' 'other' 'private operator' 'water board' 'wua' 'company'\n",
      " 'water authority' 'parastatal' 'unknown' 'other - school' 'trust']\n",
      "\n",
      "management_group values:\n",
      "['user-group' 'other' 'commercial' 'parastatal' 'unknown']\n",
      "\n",
      "payment values:\n",
      "['pay annually' 'never pay' 'pay per bucket' 'unknown'\n",
      " 'pay when scheme fails' 'other' 'pay monthly']\n",
      "\n",
      "payment_type values:\n",
      "['annually' 'never pay' 'per bucket' 'unknown' 'on failure' 'other'\n",
      " 'monthly']\n",
      "\n",
      "water_quality values:\n",
      "['soft' 'salty' 'milky' 'unknown' 'fluoride' 'coloured' 'salty abandoned'\n",
      " 'fluoride abandoned']\n",
      "\n",
      "quality_group values:\n",
      "['good' 'salty' 'milky' 'unknown' 'fluoride' 'colored']\n",
      "\n",
      "quantity values:\n",
      "['enough' 'insufficient' 'dry' 'seasonal' 'unknown']\n",
      "\n",
      "quantity_group values:\n",
      "['enough' 'insufficient' 'dry' 'seasonal' 'unknown']\n",
      "\n",
      "source values:\n",
      "['spring' 'rainwater harvesting' 'dam' 'machine dbh' 'other'\n",
      " 'shallow well' 'river' 'hand dtw' 'lake' 'unknown']\n",
      "\n",
      "source_type values:\n",
      "['spring' 'rainwater harvesting' 'dam' 'borehole' 'other' 'shallow well'\n",
      " 'river/lake']\n",
      "\n",
      "source_class values:\n",
      "['groundwater' 'surface' 'unknown']\n",
      "\n",
      "waterpoint_type values:\n",
      "['communal standpipe' 'communal standpipe multiple' 'hand pump' 'other'\n",
      " 'improved spring' 'cattle trough' 'dam']\n",
      "\n",
      "waterpoint_type_group values:\n",
      "['communal standpipe' 'hand pump' 'other' 'improved spring'\n",
      " 'cattle trough' 'dam']\n",
      "\n",
      "status_group values:\n",
      "['functional' 'needs_repair']\n",
      "\n"
     ]
    }
   ],
   "source": [
    "#print unique values in categorical columns\n",
    "for col in categorical:\n",
    "    print(f'{col} values:\\n{labelled_train_set[col].unique()}\\n')"
   ]
  },
  {
   "attachments": {},
   "cell_type": "markdown",
   "metadata": {},
   "source": [
    ">> * `source_type` and `source_class` store redudunt information already in `source`. They should be added to the irrelevant columns in **functions.py**\n",
    ">> * `water_quality` and `quality_group` have redundant information. We can drop the former and keep `quality_group` as it is cleaner\n",
    ">> * `waterpoint_type_group` and `waterpoint_type` have similar values. We drop the former and keep `waterpoint_type`\n",
    ">> * `quantity_group` and `quantity` have the same information. We drop the former and keep `quantity`"
   ]
  },
  {
   "cell_type": "code",
   "execution_count": 15,
   "metadata": {},
   "outputs": [
    {
     "name": "stdout",
     "output_type": "stream",
     "text": [
      "<class 'pandas.core.frame.DataFrame'>\n",
      "Int64Index: 59400 entries, 0 to 59399\n",
      "Data columns (total 41 columns):\n",
      " #   Column                 Non-Null Count  Dtype  \n",
      "---  ------                 --------------  -----  \n",
      " 0   id                     59400 non-null  int64  \n",
      " 1   amount_tsh             59400 non-null  float64\n",
      " 2   date_recorded          59400 non-null  object \n",
      " 3   funder                 55765 non-null  object \n",
      " 4   gps_height             59400 non-null  int64  \n",
      " 5   installer              55745 non-null  object \n",
      " 6   longitude              59400 non-null  float64\n",
      " 7   latitude               59400 non-null  float64\n",
      " 8   wpt_name               59400 non-null  object \n",
      " 9   num_private            59400 non-null  int64  \n",
      " 10  basin                  59400 non-null  object \n",
      " 11  subvillage             59029 non-null  object \n",
      " 12  region                 59400 non-null  object \n",
      " 13  region_code            59400 non-null  int64  \n",
      " 14  district_code          59400 non-null  int64  \n",
      " 15  lga                    59400 non-null  object \n",
      " 16  ward                   59400 non-null  object \n",
      " 17  population             59400 non-null  int64  \n",
      " 18  public_meeting         56066 non-null  object \n",
      " 19  recorded_by            59400 non-null  object \n",
      " 20  scheme_management      55523 non-null  object \n",
      " 21  scheme_name            31234 non-null  object \n",
      " 22  permit                 56344 non-null  object \n",
      " 23  construction_year      59400 non-null  int64  \n",
      " 24  extraction_type        59400 non-null  object \n",
      " 25  extraction_type_group  59400 non-null  object \n",
      " 26  extraction_type_class  59400 non-null  object \n",
      " 27  management             59400 non-null  object \n",
      " 28  management_group       59400 non-null  object \n",
      " 29  payment                59400 non-null  object \n",
      " 30  payment_type           59400 non-null  object \n",
      " 31  water_quality          59400 non-null  object \n",
      " 32  quality_group          59400 non-null  object \n",
      " 33  quantity               59400 non-null  object \n",
      " 34  quantity_group         59400 non-null  object \n",
      " 35  source                 59400 non-null  object \n",
      " 36  source_type            59400 non-null  object \n",
      " 37  source_class           59400 non-null  object \n",
      " 38  waterpoint_type        59400 non-null  object \n",
      " 39  waterpoint_type_group  59400 non-null  object \n",
      " 40  status_group           59400 non-null  object \n",
      "dtypes: float64(3), int64(7), object(31)\n",
      "memory usage: 21.5+ MB\n"
     ]
    }
   ],
   "source": [
    "labelled_train_set.info()"
   ]
  },
  {
   "cell_type": "code",
   "execution_count": 29,
   "metadata": {},
   "outputs": [],
   "source": [
    "#fucntion to plot comparison barcharts\n",
    "def count_plot_compare(data):\n",
    "    \"\"\"\n",
    "    Plots countplots for subset of columns for comparisons\n",
    "    Params: data, pandas.DataFrame\n",
    "    Returns: None\n",
    "    \"\"\"\n",
    "    # #fig and axes\n",
    "    fig, axes = plt.subplots(nrows=3, ncols=1, figsize=(6, 10))\n",
    "\n",
    "    # #loop over subset\n",
    "    for ind, col in enumerate(data.columns):\n",
    "        ax = sns.countplot(x=col, data=data, ax=axes[ind])\n",
    "        ax.set_title(f'{col} values')\n",
    "        ax.set_xticklabels(ax.get_xticklabels(), rotation=45, ha='right')\n",
    "\n",
    "    # #adjust spacing \n",
    "    plt.tight_layout()\n",
    "\n",
    "    # #show\n",
    "    plt.show()\n",
    "    return None"
   ]
  },
  {
   "cell_type": "code",
   "execution_count": 30,
   "metadata": {},
   "outputs": [
    {
     "data": {
      "image/png": "[encoded data removed]",
      "text/plain": [
       "<Figure size 432x720 with 3 Axes>"
      ]
     },
     "metadata": {},
     "output_type": "display_data"
    }
   ],
   "source": [
    "#countplot for 'extrction_type' columns\n",
    "col_subset_1 = labelled_train_set.iloc[:, 24:27]\n",
    "count_plot_compare(col_subset_1)"
   ]
  },
  {
   "attachments": {},
   "cell_type": "markdown",
   "metadata": {},
   "source": [
    "> * Seems that `extraction_type_class` better generalizes this feature. The rest shall be dropped."
   ]
  },
  {
   "cell_type": "code",
   "execution_count": 31,
   "metadata": {},
   "outputs": [
    {
     "name": "stdout",
     "output_type": "stream",
     "text": [
      "<class 'pandas.core.frame.DataFrame'>\n",
      "Int64Index: 59400 entries, 0 to 59399\n",
      "Data columns (total 41 columns):\n",
      " #   Column                 Non-Null Count  Dtype  \n",
      "---  ------                 --------------  -----  \n",
      " 0   id                     59400 non-null  int64  \n",
      " 1   amount_tsh             59400 non-null  float64\n",
      " 2   date_recorded          59400 non-null  object \n",
      " 3   funder                 55765 non-null  object \n",
      " 4   gps_height             59400 non-null  int64  \n",
      " 5   installer              55745 non-null  object \n",
      " 6   longitude              59400 non-null  float64\n",
      " 7   latitude               59400 non-null  float64\n",
      " 8   wpt_name               59400 non-null  object \n",
      " 9   num_private            59400 non-null  int64  \n",
      " 10  basin                  59400 non-null  object \n",
      " 11  subvillage             59029 non-null  object \n",
      " 12  region                 59400 non-null  object \n",
      " 13  region_code            59400 non-null  int64  \n",
      " 14  district_code          59400 non-null  int64  \n",
      " 15  lga                    59400 non-null  object \n",
      " 16  ward                   59400 non-null  object \n",
      " 17  population             59400 non-null  int64  \n",
      " 18  public_meeting         56066 non-null  object \n",
      " 19  recorded_by            59400 non-null  object \n",
      " 20  scheme_management      55523 non-null  object \n",
      " 21  scheme_name            31234 non-null  object \n",
      " 22  permit                 56344 non-null  object \n",
      " 23  construction_year      59400 non-null  int64  \n",
      " 24  extraction_type        59400 non-null  object \n",
      " 25  extraction_type_group  59400 non-null  object \n",
      " 26  extraction_type_class  59400 non-null  object \n",
      " 27  management             59400 non-null  object \n",
      " 28  management_group       59400 non-null  object \n",
      " 29  payment                59400 non-null  object \n",
      " 30  payment_type           59400 non-null  object \n",
      " 31  water_quality          59400 non-null  object \n",
      " 32  quality_group          59400 non-null  object \n",
      " 33  quantity               59400 non-null  object \n",
      " 34  quantity_group         59400 non-null  object \n",
      " 35  source                 59400 non-null  object \n",
      " 36  source_type            59400 non-null  object \n",
      " 37  source_class           59400 non-null  object \n",
      " 38  waterpoint_type        59400 non-null  object \n",
      " 39  waterpoint_type_group  59400 non-null  object \n",
      " 40  status_group           59400 non-null  object \n",
      "dtypes: float64(3), int64(7), object(31)\n",
      "memory usage: 21.5+ MB\n"
     ]
    }
   ],
   "source": [
    "labelled_train_set.info()"
   ]
  },
  {
   "cell_type": "code",
   "execution_count": 34,
   "metadata": {},
   "outputs": [
    {
     "data": {
      "image/png": "[encoded data removed]",
      "text/plain": [
       "<Figure size 432x720 with 3 Axes>"
      ]
     },
     "metadata": {},
     "output_type": "display_data"
    }
   ],
   "source": [
    "#countplot comparison for 'management' columns\n",
    "col_subset_2 = labelled_train_set.iloc[:, 27:29]\n",
    "count_plot_compare(col_subset_2)"
   ]
  },
  {
   "cell_type": "code",
   "execution_count": 17,
   "metadata": {},
   "outputs": [
    {
     "data": {
      "image/png": "[encoded data removed]",
      "text/plain": [
       "<Figure size 432x288 with 1 Axes>"
      ]
     },
     "metadata": {},
     "output_type": "display_data"
    }
   ],
   "source": [
    "#plot 'permit' values\n",
    "sns.countplot(x='permit', data=labelled_train_set)\n",
    "plt.title('Permit value');"
   ]
  },
  {
   "attachments": {},
   "cell_type": "markdown",
   "metadata": {},
   "source": [
    "> * `permit_value` is a binary value. It might be worth maintaining."
   ]
  },
  {
   "cell_type": "code",
   "execution_count": 18,
   "metadata": {},
   "outputs": [
    {
     "data": {
      "image/png": "[encoded data removed]",
      "text/plain": [
       "<Figure size 432x288 with 1 Axes>"
      ]
     },
     "metadata": {},
     "output_type": "display_data"
    }
   ],
   "source": [
    "#visualize 'num_private'\n",
    "vis = sns.boxplot(data=labelled_train_set, x='num_private', y='status_group')\n",
    "vis.set_title('Num_private')\n",
    "plt.ylabel('Target');"
   ]
  },
  {
   "attachments": {},
   "cell_type": "markdown",
   "metadata": {},
   "source": [
    "> * `num_private` seems to be a continuous categorical variable by looking at the distribution. From the [documentation](https://www.drivendata.org/competitions/7/pump-it-up-data-mining-the-water-table/page/25/#sub_values) it seems to be a miscellaneous column. It shall be dropped."
   ]
  },
  {
   "attachments": {},
   "cell_type": "markdown",
   "metadata": {},
   "source": [
    ">> * Check for Validity, Completeness, Consistency and Uniformity"
   ]
  },
  {
   "cell_type": "code",
   "execution_count": null,
   "metadata": {},
   "outputs": [],
   "source": []
  },
  {
   "attachments": {},
   "cell_type": "markdown",
   "metadata": {},
   "source": [
    "### Missing Values and Irrelevant columns"
   ]
  },
  {
   "cell_type": "code",
   "execution_count": 19,
   "metadata": {},
   "outputs": [],
   "source": [
    "#Local function to print percentage missing errors\n",
    "def print_missing_perc(data):\n",
    "    \"\"\"\n",
    "    Print percentage missing values\n",
    "    Parameters: data\n",
    "    Returns: None\n",
    "    \"\"\"\n",
    "    cols_with_null = []\n",
    "    for col in data.columns:\n",
    "        missing_perc = float(data[col].isna().sum()/len(data[col]))\n",
    "        if(missing_perc > 0):\n",
    "            cols_with_null.append((col, missing_perc))\n",
    "        if(col == data.columns[-1]):\n",
    "            for null_col in cols_with_null:\n",
    "                print(f'{null_col[0]} missing: {null_col[1]*100}%')\n",
    "    if not len(cols_with_null):\n",
    "        print('No null values')\n",
    "    return None"
   ]
  },
  {
   "cell_type": "code",
   "execution_count": 20,
   "metadata": {},
   "outputs": [
    {
     "name": "stdout",
     "output_type": "stream",
     "text": [
      "funder missing: 6.11952861952862%\n",
      "installer missing: 6.153198653198653%\n",
      "subvillage missing: 0.6245791245791246%\n",
      "public_meeting missing: 5.612794612794613%\n",
      "scheme_management missing: 6.526936026936027%\n",
      "scheme_name missing: 47.41750841750842%\n",
      "permit missing: 5.144781144781145%\n"
     ]
    }
   ],
   "source": [
    "print_missing_perc(labelled_train_set)"
   ]
  },
  {
   "cell_type": "code",
   "execution_count": 21,
   "metadata": {},
   "outputs": [
    {
     "name": "stdout",
     "output_type": "stream",
     "text": [
      "No null values\n"
     ]
    }
   ],
   "source": [
    "tww_df = drop_artefacts_and_nulls(labelled_train_set, thresh=.2)\n",
    "# print_missing_percentage(tww_df)\n",
    "print_missing_perc(tww_df)"
   ]
  },
  {
   "cell_type": "code",
   "execution_count": 22,
   "metadata": {},
   "outputs": [
    {
     "name": "stdout",
     "output_type": "stream",
     "text": [
      "<class 'pandas.core.frame.DataFrame'>\n",
      "Int64Index: 48322 entries, 0 to 59399\n",
      "Data columns (total 25 columns):\n",
      " #   Column                 Non-Null Count  Dtype  \n",
      "---  ------                 --------------  -----  \n",
      " 0   amount_tsh             48322 non-null  float64\n",
      " 1   date_recorded          48322 non-null  object \n",
      " 2   gps_height             48322 non-null  int64  \n",
      " 3   installer              48322 non-null  object \n",
      " 4   longitude              48322 non-null  float64\n",
      " 5   latitude               48322 non-null  float64\n",
      " 6   basin                  48322 non-null  object \n",
      " 7   subvillage             48322 non-null  object \n",
      " 8   region_code            48322 non-null  int64  \n",
      " 9   district_code          48322 non-null  int64  \n",
      " 10  lga                    48322 non-null  object \n",
      " 11  ward                   48322 non-null  object \n",
      " 12  population             48322 non-null  int64  \n",
      " 13  public_meeting         48322 non-null  object \n",
      " 14  scheme_management      48322 non-null  object \n",
      " 15  permit                 48322 non-null  object \n",
      " 16  construction_year      48322 non-null  int64  \n",
      " 17  extraction_type_class  48322 non-null  object \n",
      " 18  management             48322 non-null  object \n",
      " 19  management_group       48322 non-null  object \n",
      " 20  quality_group          48322 non-null  object \n",
      " 21  quantity               48322 non-null  object \n",
      " 22  source                 48322 non-null  object \n",
      " 23  waterpoint_type        48322 non-null  object \n",
      " 24  status_group           48322 non-null  object \n",
      "dtypes: float64(3), int64(5), object(17)\n",
      "memory usage: 9.6+ MB\n"
     ]
    }
   ],
   "source": [
    "tww_df.info()"
   ]
  },
  {
   "cell_type": "code",
   "execution_count": 23,
   "metadata": {},
   "outputs": [
    {
     "name": "stdout",
     "output_type": "stream",
     "text": [
      "categorical columns:\n",
      "['date_recorded' 'installer' 'basin' 'subvillage' 'lga' 'ward'\n",
      " 'public_meeting' 'scheme_management' 'permit' 'extraction_type_class'\n",
      " 'management' 'management_group' 'quality_group' 'quantity' 'source'\n",
      " 'waterpoint_type' 'status_group']\n",
      "numerical columns:\n",
      "['amount_tsh' 'gps_height' 'longitude' 'latitude' 'region_code'\n",
      " 'district_code' 'population' 'construction_year']\n"
     ]
    }
   ],
   "source": [
    "#new categorical columns\n",
    "new_categorical = tww_df.select_dtypes(include='object').columns\n",
    "new_numerical = tww_df.select_dtypes(include='number').columns\n",
    "print(f'categorical columns:\\n{new_categorical.values}')\n",
    "print(f'numerical columns:\\n{new_numerical.values}')"
   ]
  },
  {
   "cell_type": "code",
   "execution_count": 24,
   "metadata": {},
   "outputs": [
    {
     "name": "stdout",
     "output_type": "stream",
     "text": [
      "date_recorded values:\n",
      "['2011-03-14' '2013-02-25' '2013-01-28' '2011-03-13' '2012-10-01'\n",
      " '2012-11-03' '2011-02-20' '2013-02-18' '2012-10-14' '2013-03-15'\n",
      " '2012-10-20' '2011-08-04' '2011-07-04' '2011-09-04' '2011-02-22'\n",
      " '2011-02-27' '2011-10-04' '2013-11-03' '2013-01-21' '2013-01-16'\n",
      " '2013-03-05' '2013-03-16' '2011-03-23' '2011-03-16' '2013-03-19'\n",
      " '2011-03-11' '2011-07-16' '2011-03-27' '2013-02-11' '2013-10-03'\n",
      " '2011-03-12' '2011-07-07' '2013-03-18' '2012-10-22' '2013-02-05'\n",
      " '2011-04-04' '2013-02-21' '2011-08-18' '2011-07-31' '2011-08-01'\n",
      " '2013-02-22' '2013-07-03' '2013-08-03' '2011-03-22' '2013-05-03'\n",
      " '2013-01-19' '2011-01-04' '2013-02-04' '2011-03-30' '2012-10-23'\n",
      " '2011-03-02' '2011-03-04' '2013-03-14' '2011-08-08' '2011-04-11'\n",
      " '2013-01-17' '2013-01-20' '2011-07-11' '2013-01-27' '2013-02-19'\n",
      " '2012-10-06' '2013-02-13' '2013-02-26' '2013-02-16' '2013-02-17'\n",
      " '2011-07-21' '2011-03-07' '2011-07-17' '2011-04-07' '2011-04-10'\n",
      " '2013-01-22' '2011-02-25' '2011-07-14' '2011-07-22' '2012-10-11'\n",
      " '2011-07-19' '2011-03-05' '2011-03-17' '2013-01-25' '2011-10-07'\n",
      " '2011-08-03' '2011-02-24' '2011-08-02' '2011-02-03' '2013-02-03'\n",
      " '2013-02-24' '2011-04-02' '2011-03-03' '2011-08-17' '2011-03-28'\n",
      " '2011-07-23' '2013-02-06' '2013-01-30' '2013-02-27' '2011-08-11'\n",
      " '2011-03-09' '2013-03-07' '2011-08-14' '2013-09-03' '2011-02-16'\n",
      " '2011-04-03' '2011-07-09' '2011-04-12' '2011-03-10' '2011-04-14'\n",
      " '2013-03-25' '2013-02-28' '2013-01-18' '2012-10-10' '2011-07-03'\n",
      " '2011-07-27' '2011-07-20' '2013-03-13' '2011-03-15' '2011-07-18'\n",
      " '2013-03-03' '2011-11-07' '2013-04-04' '2012-10-16' '2013-03-23'\n",
      " '2013-03-21' '2013-04-03' '2013-02-08' '2011-03-21' '2011-04-05'\n",
      " '2012-10-15' '2013-02-14' '2011-03-19' '2013-06-03' '2013-03-29'\n",
      " '2012-10-12' '2011-03-18' '2011-08-06' '2012-10-13' '2013-03-02'\n",
      " '2013-02-12' '2013-01-29' '2013-01-04' '2012-11-13' '2013-02-01'\n",
      " '2011-08-10' '2013-03-17' '2011-07-30' '2011-07-15' '2011-02-17'\n",
      " '2011-08-19' '2011-07-29' '2013-01-26' '2011-04-06' '2012-10-05'\n",
      " '2013-02-09' '2011-08-21' '2013-03-24' '2012-10-29' '2013-10-02'\n",
      " '2011-04-01' '2013-02-23' '2013-02-20' '2011-03-29' '2013-03-01'\n",
      " '2011-03-31' '2013-05-04' '2012-11-05' '2011-03-24' '2013-03-04'\n",
      " '2012-10-21' '2011-04-08' '2012-10-26' '2013-06-04' '2011-08-20'\n",
      " '2011-04-16' '2013-02-07' '2011-07-25' '2011-07-12' '2013-08-02'\n",
      " '2011-02-23' '2011-07-28' '2013-03-12' '2013-03-30' '2013-12-03'\n",
      " '2011-07-13' '2011-03-26' '2013-03-06' '2013-01-23' '2012-11-04'\n",
      " '2012-10-02' '2012-10-07' '2011-04-18' '2012-11-15' '2011-08-12'\n",
      " '2011-03-20' '2011-02-26' '2011-03-01' '2012-10-18' '2011-07-24'\n",
      " '2013-01-24' '2012-12-14' '2011-02-14' '2013-01-14' '2011-07-26'\n",
      " '2011-03-25' '2011-08-05' '2012-10-19' '2011-04-15' '2011-03-08'\n",
      " '2012-10-27' '2013-03-22' '2012-10-04' '2011-02-21' '2012-10-17'\n",
      " '2012-10-03' '2013-03-20' '2012-11-08' '2011-02-15' '2013-02-10'\n",
      " '2012-10-24' '2013-03-10' '2012-10-08' '2011-07-06' '2011-07-08'\n",
      " '2012-12-13' '2011-08-25' '2011-04-09' '2012-10-31' '2011-08-07'\n",
      " '2011-03-06' '2012-11-12' '2011-02-28' '2013-02-15' '2011-02-02'\n",
      " '2013-03-26' '2013-01-31' '2011-07-10' '2011-04-17' '2011-07-05'\n",
      " '2011-06-04' '2011-08-22' '2011-01-03' '2012-11-09' '2011-01-08'\n",
      " '2013-07-04' '2013-09-02' '2011-02-18' '2011-08-13' '2012-11-06'\n",
      " '2011-06-03' '2012-10-25' '2013-03-08' '2013-01-13' '2013-02-02'\n",
      " '2012-10-28' '2004-12-01' '2013-03-27' '2012-11-01' '2011-12-03'\n",
      " '2011-04-19' '2013-03-28' '2013-01-15' '2012-10-30' '2011-08-16'\n",
      " '2013-01-07' '2013-01-03' '2013-05-02' '2011-08-15' '2011-04-13'\n",
      " '2011-02-19' '2011-11-03' '2011-04-21' '2011-12-07' '2012-11-11'\n",
      " '2012-10-09' '2011-10-03' '2011-08-26' '2011-08-09' '2012-12-16'\n",
      " '2011-06-07' '2002-10-14' '2013-03-09' '2011-08-23' '2013-01-11'\n",
      " '2011-02-04' '2013-01-09' '2012-12-12' '2012-11-14' '2012-12-11'\n",
      " '2011-04-20' '2012-12-18' '2011-08-27' '2013-12-02' '2013-11-02'\n",
      " '2011-09-03' '2012-12-21' '2012-11-02' '2012-12-15' '2013-03-11'\n",
      " '2012-11-19' '2011-05-03' '2012-12-10' '2012-11-10' '2011-11-04'\n",
      " '2004-05-01' '2004-04-05' '2012-11-07' '2011-04-22' '2013-01-12'\n",
      " '2013-01-08' '2011-05-07' '2011-08-24' '2012-12-24' '2011-05-04'\n",
      " '2011-04-23' '2013-04-02' '2011-02-01' '2012-12-23' '2004-03-01'\n",
      " '2004-01-07' '2012-11-30' '2013-01-06' '2004-03-06' '2012-01-21'\n",
      " '2012-12-17' '2004-09-01' '2004-04-01' '2013-12-01']\n",
      "\n",
      "installer values:\n",
      "['Roman' 'World vision' 'UNICEF' ... 'DWE/Anglican church' 'brown'\n",
      " 'SELEPTA']\n",
      "\n",
      "basin values:\n",
      "['Lake Nyasa' 'Pangani' 'Ruvuma / Southern Coast' 'Internal'\n",
      " 'Lake Tanganyika' 'Wami / Ruvu' 'Rufiji' 'Lake Rukwa' 'Lake Victoria']\n",
      "\n",
      "subvillage values:\n",
      "['Mnyusi B' 'Majengo' 'Mahakamani' ... 'Itete B' 'Maore Kati'\n",
      " 'Kikatanyemba']\n",
      "\n",
      "lga values:\n",
      "['Ludewa' 'Simanjiro' 'Nanyumbu' 'Mkinga' 'Shinyanga Rural' 'Tabora Urban'\n",
      " 'Mkuranga' 'Namtumbo' 'Maswa' 'Siha' 'Meatu' 'Sumbawanga Rural' 'Njombe'\n",
      " 'Same' 'Kigoma Rural' 'Moshi Rural' 'Lindi Rural' 'Rombo' 'Chamwino'\n",
      " 'Bagamoyo' 'Kyela' 'Kondoa' 'Kilolo' 'Kibondo' 'Makete' 'Arusha Rural'\n",
      " 'Masasi' 'Moshi Urban' 'Geita' 'Bukoba Rural' 'Muheza' 'Lushoto' 'Meru'\n",
      " 'Iramba' 'Karagwe' 'Kasulu' 'Korogwe' 'Bukombe' 'Morogoro Rural'\n",
      " 'Kishapu' 'Sengerema' 'Iringa Rural' 'Dodoma Urban' 'Ruangwa' 'Hanang'\n",
      " 'Misenyi' 'Missungwi' 'Songea Rural' 'Tanga' 'Tunduru' 'Hai' 'Mwanga'\n",
      " 'Chato' 'Biharamulo' 'Ileje' 'Mpwapwa' 'Mvomero' 'Bunda' 'Kiteto'\n",
      " 'Urambo' 'Mbozi' 'Sikonge' 'Muleba' 'Temeke' 'Mbeya Rural' 'Magu'\n",
      " 'Manyoni' 'Igunga' 'Bariadi' 'Kilosa' 'Babati' 'Chunya' 'Mufindi'\n",
      " 'Mtwara Rural' 'Ngara' 'Karatu' 'Mpanda' 'Kibaha' 'Ukerewe' 'Newala'\n",
      " 'Nzega' 'Bahi' 'Ulanga' 'Nkasi' 'Sumbawanga Urban' 'Morogoro Urban'\n",
      " 'Tandahimba' 'Kisarawe' 'Mbinga' 'Liwale' 'Longido' 'Kilombero' 'Uyui'\n",
      " 'Rufiji' 'Kwimba' 'Ilala' 'Shinyanga Urban' 'Ngorongoro' 'Handeni'\n",
      " 'Mtwara Urban' 'Rorya' 'Pangani' 'Nachingwea' 'Kilwa' 'Serengeti'\n",
      " 'Musoma Rural' 'Mbulu' 'Kinondoni' 'Kahama' 'Kigoma Urban' 'Tarime'\n",
      " 'Ilemela' 'Singida Urban' 'Kilindi' 'Songea Urban' 'Singida Rural'\n",
      " 'Nyamagana']\n",
      "\n",
      "ward values:\n",
      "['Mundindi' 'Ngorika' 'Nanyumbu' ... 'Mbinga Urban' 'Jana' 'Ngaya']\n",
      "\n",
      "public_meeting values:\n",
      "[True False]\n",
      "\n",
      "scheme_management values:\n",
      "['VWC' 'Private operator' 'WUG' 'Water Board' 'WUA' 'Water authority'\n",
      " 'Company' 'Other' 'Parastatal' 'Trust' 'SWC' 'None']\n",
      "\n",
      "permit values:\n",
      "[False True]\n",
      "\n",
      "extraction_type_class values:\n",
      "['gravity' 'submersible' 'handpump' 'wind-powered' 'other' 'rope pump'\n",
      " 'motorpump']\n",
      "\n",
      "management values:\n",
      "['vwc' 'private operator' 'wug' 'water board' 'wua' 'company' 'other'\n",
      " 'water authority' 'parastatal' 'other - school' 'unknown' 'trust']\n",
      "\n",
      "management_group values:\n",
      "['user-group' 'commercial' 'other' 'parastatal' 'unknown']\n",
      "\n",
      "quality_group values:\n",
      "['good' 'salty' 'unknown' 'milky' 'fluoride' 'colored']\n",
      "\n",
      "quantity values:\n",
      "['enough' 'dry' 'seasonal' 'insufficient' 'unknown']\n",
      "\n",
      "source values:\n",
      "['spring' 'dam' 'machine dbh' 'other' 'shallow well' 'river' 'hand dtw'\n",
      " 'rainwater harvesting' 'lake' 'unknown']\n",
      "\n",
      "waterpoint_type values:\n",
      "['communal standpipe' 'communal standpipe multiple' 'hand pump' 'other'\n",
      " 'improved spring' 'cattle trough' 'dam']\n",
      "\n",
      "status_group values:\n",
      "['functional' 'needs_repair']\n",
      "\n"
     ]
    }
   ],
   "source": [
    "#print unique values in categorical columns\n",
    "for col in new_categorical:\n",
    "    print(f'{col} values:\\n{tww_df[col].unique()}\\n')"
   ]
  },
  {
   "cell_type": "code",
   "execution_count": null,
   "metadata": {},
   "outputs": [],
   "source": []
  },
  {
   "cell_type": "code",
   "execution_count": null,
   "metadata": {},
   "outputs": [],
   "source": []
  }
 ],
 "metadata": {
  "kernelspec": {
   "display_name": "learn-env",
   "language": "python",
   "name": "python3"
  },
  "language_info": {
   "codemirror_mode": {
    "name": "ipython",
    "version": 3
   },
   "file_extension": ".py",
   "mimetype": "text/x-python",
   "name": "python",
   "nbconvert_exporter": "python",
   "pygments_lexer": "ipython3",
   "version": "3.8.5"
  },
  "orig_nbformat": 4
 },
 "nbformat": 4,
 "nbformat_minor": 2
}
