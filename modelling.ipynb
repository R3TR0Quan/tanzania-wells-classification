{
 "cells": [
  {
   "attachments": {},
   "cell_type": "markdown",
   "metadata": {},
   "source": [
    "## Tanzania Water Wells Classification Modelling"
   ]
  },
  {
   "attachments": {},
   "cell_type": "markdown",
   "metadata": {},
   "source": [
    "### Importing relevant dependancies"
   ]
  },
  {
   "cell_type": "code",
   "execution_count": 27,
   "metadata": {},
   "outputs": [
    {
     "data": {
      "text/html": [
       "<div>\n",
       "<style scoped>\n",
       "    .dataframe tbody tr th:only-of-type {\n",
       "        vertical-align: middle;\n",
       "    }\n",
       "\n",
       "    .dataframe tbody tr th {\n",
       "        vertical-align: top;\n",
       "    }\n",
       "\n",
       "    .dataframe thead th {\n",
       "        text-align: right;\n",
       "    }\n",
       "</style>\n",
       "<table border=\"1\" class=\"dataframe\">\n",
       "  <thead>\n",
       "    <tr style=\"text-align: right;\">\n",
       "      <th></th>\n",
       "      <th>id</th>\n",
       "      <th>amount_tsh</th>\n",
       "      <th>date_recorded</th>\n",
       "      <th>funder</th>\n",
       "      <th>gps_height</th>\n",
       "      <th>installer</th>\n",
       "      <th>longitude</th>\n",
       "      <th>latitude</th>\n",
       "      <th>wpt_name</th>\n",
       "      <th>num_private</th>\n",
       "      <th>...</th>\n",
       "      <th>water_quality</th>\n",
       "      <th>quality_group</th>\n",
       "      <th>quantity</th>\n",
       "      <th>quantity_group</th>\n",
       "      <th>source</th>\n",
       "      <th>source_type</th>\n",
       "      <th>source_class</th>\n",
       "      <th>waterpoint_type</th>\n",
       "      <th>waterpoint_type_group</th>\n",
       "      <th>status_group</th>\n",
       "    </tr>\n",
       "  </thead>\n",
       "  <tbody>\n",
       "    <tr>\n",
       "      <th>0</th>\n",
       "      <td>69572</td>\n",
       "      <td>6000.0</td>\n",
       "      <td>2011-03-14</td>\n",
       "      <td>Roman</td>\n",
       "      <td>1390</td>\n",
       "      <td>Roman</td>\n",
       "      <td>34.938093</td>\n",
       "      <td>-9.856322</td>\n",
       "      <td>none</td>\n",
       "      <td>0</td>\n",
       "      <td>...</td>\n",
       "      <td>soft</td>\n",
       "      <td>good</td>\n",
       "      <td>enough</td>\n",
       "      <td>enough</td>\n",
       "      <td>spring</td>\n",
       "      <td>spring</td>\n",
       "      <td>groundwater</td>\n",
       "      <td>communal standpipe</td>\n",
       "      <td>communal standpipe</td>\n",
       "      <td>functional</td>\n",
       "    </tr>\n",
       "    <tr>\n",
       "      <th>1</th>\n",
       "      <td>8776</td>\n",
       "      <td>0.0</td>\n",
       "      <td>2013-03-06</td>\n",
       "      <td>Grumeti</td>\n",
       "      <td>1399</td>\n",
       "      <td>GRUMETI</td>\n",
       "      <td>34.698766</td>\n",
       "      <td>-2.147466</td>\n",
       "      <td>Zahanati</td>\n",
       "      <td>0</td>\n",
       "      <td>...</td>\n",
       "      <td>soft</td>\n",
       "      <td>good</td>\n",
       "      <td>insufficient</td>\n",
       "      <td>insufficient</td>\n",
       "      <td>rainwater harvesting</td>\n",
       "      <td>rainwater harvesting</td>\n",
       "      <td>surface</td>\n",
       "      <td>communal standpipe</td>\n",
       "      <td>communal standpipe</td>\n",
       "      <td>functional</td>\n",
       "    </tr>\n",
       "    <tr>\n",
       "      <th>2</th>\n",
       "      <td>34310</td>\n",
       "      <td>25.0</td>\n",
       "      <td>2013-02-25</td>\n",
       "      <td>Lottery Club</td>\n",
       "      <td>686</td>\n",
       "      <td>World vision</td>\n",
       "      <td>37.460664</td>\n",
       "      <td>-3.821329</td>\n",
       "      <td>Kwa Mahundi</td>\n",
       "      <td>0</td>\n",
       "      <td>...</td>\n",
       "      <td>soft</td>\n",
       "      <td>good</td>\n",
       "      <td>enough</td>\n",
       "      <td>enough</td>\n",
       "      <td>dam</td>\n",
       "      <td>dam</td>\n",
       "      <td>surface</td>\n",
       "      <td>communal standpipe multiple</td>\n",
       "      <td>communal standpipe</td>\n",
       "      <td>functional</td>\n",
       "    </tr>\n",
       "    <tr>\n",
       "      <th>3</th>\n",
       "      <td>67743</td>\n",
       "      <td>0.0</td>\n",
       "      <td>2013-01-28</td>\n",
       "      <td>Unicef</td>\n",
       "      <td>263</td>\n",
       "      <td>UNICEF</td>\n",
       "      <td>38.486161</td>\n",
       "      <td>-11.155298</td>\n",
       "      <td>Zahanati Ya Nanyumbu</td>\n",
       "      <td>0</td>\n",
       "      <td>...</td>\n",
       "      <td>soft</td>\n",
       "      <td>good</td>\n",
       "      <td>dry</td>\n",
       "      <td>dry</td>\n",
       "      <td>machine dbh</td>\n",
       "      <td>borehole</td>\n",
       "      <td>groundwater</td>\n",
       "      <td>communal standpipe multiple</td>\n",
       "      <td>communal standpipe</td>\n",
       "      <td>needs_repair</td>\n",
       "    </tr>\n",
       "    <tr>\n",
       "      <th>4</th>\n",
       "      <td>19728</td>\n",
       "      <td>0.0</td>\n",
       "      <td>2011-07-13</td>\n",
       "      <td>Action In A</td>\n",
       "      <td>0</td>\n",
       "      <td>Artisan</td>\n",
       "      <td>31.130847</td>\n",
       "      <td>-1.825359</td>\n",
       "      <td>Shuleni</td>\n",
       "      <td>0</td>\n",
       "      <td>...</td>\n",
       "      <td>soft</td>\n",
       "      <td>good</td>\n",
       "      <td>seasonal</td>\n",
       "      <td>seasonal</td>\n",
       "      <td>rainwater harvesting</td>\n",
       "      <td>rainwater harvesting</td>\n",
       "      <td>surface</td>\n",
       "      <td>communal standpipe</td>\n",
       "      <td>communal standpipe</td>\n",
       "      <td>functional</td>\n",
       "    </tr>\n",
       "  </tbody>\n",
       "</table>\n",
       "<p>5 rows × 41 columns</p>\n",
       "</div>"
      ],
      "text/plain": [
       "      id  amount_tsh date_recorded        funder  gps_height     installer  \\\n",
       "0  69572      6000.0    2011-03-14         Roman        1390         Roman   \n",
       "1   8776         0.0    2013-03-06       Grumeti        1399       GRUMETI   \n",
       "2  34310        25.0    2013-02-25  Lottery Club         686  World vision   \n",
       "3  67743         0.0    2013-01-28        Unicef         263        UNICEF   \n",
       "4  19728         0.0    2011-07-13   Action In A           0       Artisan   \n",
       "\n",
       "   longitude   latitude              wpt_name  num_private  ... water_quality  \\\n",
       "0  34.938093  -9.856322                  none            0  ...          soft   \n",
       "1  34.698766  -2.147466              Zahanati            0  ...          soft   \n",
       "2  37.460664  -3.821329           Kwa Mahundi            0  ...          soft   \n",
       "3  38.486161 -11.155298  Zahanati Ya Nanyumbu            0  ...          soft   \n",
       "4  31.130847  -1.825359               Shuleni            0  ...          soft   \n",
       "\n",
       "  quality_group      quantity  quantity_group                source  \\\n",
       "0          good        enough          enough                spring   \n",
       "1          good  insufficient    insufficient  rainwater harvesting   \n",
       "2          good        enough          enough                   dam   \n",
       "3          good           dry             dry           machine dbh   \n",
       "4          good      seasonal        seasonal  rainwater harvesting   \n",
       "\n",
       "            source_type source_class              waterpoint_type  \\\n",
       "0                spring  groundwater           communal standpipe   \n",
       "1  rainwater harvesting      surface           communal standpipe   \n",
       "2                   dam      surface  communal standpipe multiple   \n",
       "3              borehole  groundwater  communal standpipe multiple   \n",
       "4  rainwater harvesting      surface           communal standpipe   \n",
       "\n",
       "  waterpoint_type_group  status_group  \n",
       "0    communal standpipe    functional  \n",
       "1    communal standpipe    functional  \n",
       "2    communal standpipe    functional  \n",
       "3    communal standpipe  needs_repair  \n",
       "4    communal standpipe    functional  \n",
       "\n",
       "[5 rows x 41 columns]"
      ]
     },
     "execution_count": 27,
     "metadata": {},
     "output_type": "execute_result"
    }
   ],
   "source": [
    "# importations\n",
    "import numpy as np\n",
    "import pandas as pd\n",
    "import matplotlib.pyplot as plt\n",
    "\n",
    "from sklearn.model_selection import train_test_split, GridSearchCV,\\\n",
    "    cross_validate\n",
    "from sklearn.preprocessing import FunctionTransformer, StandardScaler, OneHotEncoder, LabelEncoder\n",
    "from sklearn.compose import ColumnTransformer\n",
    "from sklearn.pipeline import Pipeline\n",
    "\n",
    "from sklearn.linear_model import LogisticRegression\n",
    "from sklearn.tree import DecisionTreeClassifier\n",
    "from sklearn.neighbors import KNeighborsClassifier\n",
    "\n",
    "from sklearn.ensemble import RandomForestClassifier\n",
    "\n",
    "from sklearn.metrics import accuracy_score, recall_score, confusion_matrix, plot_confusion_matrix,\\\n",
    "    classification_report\n",
    "\n",
    "from functions import drop_artefacts_and_nulls, calculate_age\n",
    "from functions import cross_val_evaluate\n",
    "import warnings\n",
    "\n",
    "warnings.filterwarnings('ignore')\n",
    "%matplotlib inline\n",
    "\n",
    "#read training data\n",
    "train_set = pd.read_csv('Data/labelled_train_set.csv')\n",
    "\n",
    "#train set\n",
    "train_set.head()"
   ]
  },
  {
   "attachments": {},
   "cell_type": "markdown",
   "metadata": {},
   "source": [
    "### Preprocessing"
   ]
  },
  {
   "cell_type": "code",
   "execution_count": 28,
   "metadata": {},
   "outputs": [
    {
     "name": "stdout",
     "output_type": "stream",
     "text": [
      "Categorical:\n",
      " Index(['date_recorded', 'installer', 'basin', 'subvillage', 'lga', 'ward',\n",
      "       'scheme_management', 'permit', 'extraction_type_class',\n",
      "       'management_group', 'quality_group', 'quantity', 'source',\n",
      "       'waterpoint_type', 'status_group'],\n",
      "      dtype='object')\n",
      "Numerical:\n",
      " Index(['amount_tsh', 'gps_height', 'longitude', 'latitude', 'region_code',\n",
      "       'district_code', 'population', 'construction_year'],\n",
      "      dtype='object')\n"
     ]
    }
   ],
   "source": [
    "#list column names for categorical and numerical\n",
    "cat_cols = drop_artefacts_and_nulls(train_set).select_dtypes(include='object').columns\n",
    "num_cols = drop_artefacts_and_nulls(train_set).select_dtypes(include='number').columns\n",
    "print('Categorical:\\n', cat_cols)\n",
    "print('Numerical:\\n', num_cols)"
   ]
  },
  {
   "cell_type": "code",
   "execution_count": 29,
   "metadata": {},
   "outputs": [],
   "source": [
    "#column groups\n",
    "cat_cols = ['installer', 'basin', 'subvillage', 'lga', 'ward', 'scheme_management',\n",
    "       'permit', 'extraction_type_class', 'management_group', 'quality_group',\n",
    "       'quantity', 'source', 'waterpoint_type']\n",
    "\n",
    "num_cols = ['amount_tsh', 'gps_height', 'longitude', 'latitude', 'region_code',\n",
    "       'district_code', 'population', 'construction_year', 'age']"
   ]
  },
  {
   "attachments": {},
   "cell_type": "markdown",
   "metadata": {},
   "source": [
    "**Transformers**"
   ]
  },
  {
   "cell_type": "code",
   "execution_count": 30,
   "metadata": {},
   "outputs": [],
   "source": [
    "#function transformer for dropping irrelevant features and nulls\n",
    "feature_selector = FunctionTransformer(drop_artefacts_and_nulls)\n",
    "\n",
    "#feature engineering to calculate age\n",
    "age_transformer = FunctionTransformer(calculate_age)\n",
    "\n",
    "#column transformer to transform target\n",
    "target_transformer = ColumnTransformer(transformers=[\n",
    "    ('le', LabelEncoder(), ['status_group']),\n",
    "])\n",
    "\n",
    "#categorical transformer\n",
    "cat_transformer = Pipeline(steps=[\n",
    "    ('ohe', OneHotEncoder(handle_unknown='ignore'))\n",
    "])\n",
    "\n",
    "#numerical transformer\n",
    "num_transformer = Pipeline(steps=[\n",
    "    ('scaler', StandardScaler())\n",
    "])\n",
    "\n",
    "\n",
    "#Preprocessor\n",
    "preprocessor = ColumnTransformer(transformers=[\n",
    "    ('num', num_transformer, num_cols),\n",
    "    ('cat', cat_transformer, cat_cols),\n",
    "    # ('target_trans', target_transformer)\n",
    "])\n"
   ]
  },
  {
   "attachments": {},
   "cell_type": "markdown",
   "metadata": {},
   "source": [
    "**Cleaning Pipelines**"
   ]
  },
  {
   "cell_type": "code",
   "execution_count": 31,
   "metadata": {},
   "outputs": [],
   "source": [
    "# cleaning pipeline\n",
    "feature_cleaner = Pipeline(steps=[\n",
    "    ('feat_select', feature_selector),\n",
    "    ('age_trans', age_transformer)\n",
    "])\n"
   ]
  },
  {
   "attachments": {},
   "cell_type": "markdown",
   "metadata": {},
   "source": [
    ">Cleaning the the whole training set before spliting"
   ]
  },
  {
   "cell_type": "code",
   "execution_count": 32,
   "metadata": {},
   "outputs": [
    {
     "data": {
      "text/html": [
       "<div>\n",
       "<style scoped>\n",
       "    .dataframe tbody tr th:only-of-type {\n",
       "        vertical-align: middle;\n",
       "    }\n",
       "\n",
       "    .dataframe tbody tr th {\n",
       "        vertical-align: top;\n",
       "    }\n",
       "\n",
       "    .dataframe thead th {\n",
       "        text-align: right;\n",
       "    }\n",
       "</style>\n",
       "<table border=\"1\" class=\"dataframe\">\n",
       "  <thead>\n",
       "    <tr style=\"text-align: right;\">\n",
       "      <th></th>\n",
       "      <th>amount_tsh</th>\n",
       "      <th>gps_height</th>\n",
       "      <th>installer</th>\n",
       "      <th>longitude</th>\n",
       "      <th>latitude</th>\n",
       "      <th>basin</th>\n",
       "      <th>subvillage</th>\n",
       "      <th>region_code</th>\n",
       "      <th>district_code</th>\n",
       "      <th>lga</th>\n",
       "      <th>...</th>\n",
       "      <th>permit</th>\n",
       "      <th>construction_year</th>\n",
       "      <th>extraction_type_class</th>\n",
       "      <th>management_group</th>\n",
       "      <th>quality_group</th>\n",
       "      <th>quantity</th>\n",
       "      <th>source</th>\n",
       "      <th>waterpoint_type</th>\n",
       "      <th>status_group</th>\n",
       "      <th>age</th>\n",
       "    </tr>\n",
       "  </thead>\n",
       "  <tbody>\n",
       "    <tr>\n",
       "      <th>0</th>\n",
       "      <td>6000.0</td>\n",
       "      <td>1390</td>\n",
       "      <td>Roman</td>\n",
       "      <td>34.938093</td>\n",
       "      <td>-9.856322</td>\n",
       "      <td>Lake Nyasa</td>\n",
       "      <td>Mnyusi B</td>\n",
       "      <td>11</td>\n",
       "      <td>5</td>\n",
       "      <td>Ludewa</td>\n",
       "      <td>...</td>\n",
       "      <td>False</td>\n",
       "      <td>1999</td>\n",
       "      <td>gravity</td>\n",
       "      <td>user-group</td>\n",
       "      <td>good</td>\n",
       "      <td>enough</td>\n",
       "      <td>spring</td>\n",
       "      <td>communal standpipe</td>\n",
       "      <td>functional</td>\n",
       "      <td>12</td>\n",
       "    </tr>\n",
       "    <tr>\n",
       "      <th>1</th>\n",
       "      <td>0.0</td>\n",
       "      <td>1399</td>\n",
       "      <td>GRUMETI</td>\n",
       "      <td>34.698766</td>\n",
       "      <td>-2.147466</td>\n",
       "      <td>Lake Victoria</td>\n",
       "      <td>Nyamara</td>\n",
       "      <td>20</td>\n",
       "      <td>2</td>\n",
       "      <td>Serengeti</td>\n",
       "      <td>...</td>\n",
       "      <td>True</td>\n",
       "      <td>2010</td>\n",
       "      <td>gravity</td>\n",
       "      <td>user-group</td>\n",
       "      <td>good</td>\n",
       "      <td>insufficient</td>\n",
       "      <td>rainwater harvesting</td>\n",
       "      <td>communal standpipe</td>\n",
       "      <td>functional</td>\n",
       "      <td>3</td>\n",
       "    </tr>\n",
       "    <tr>\n",
       "      <th>2</th>\n",
       "      <td>25.0</td>\n",
       "      <td>686</td>\n",
       "      <td>World vision</td>\n",
       "      <td>37.460664</td>\n",
       "      <td>-3.821329</td>\n",
       "      <td>Pangani</td>\n",
       "      <td>Majengo</td>\n",
       "      <td>21</td>\n",
       "      <td>4</td>\n",
       "      <td>Simanjiro</td>\n",
       "      <td>...</td>\n",
       "      <td>True</td>\n",
       "      <td>2009</td>\n",
       "      <td>gravity</td>\n",
       "      <td>user-group</td>\n",
       "      <td>good</td>\n",
       "      <td>enough</td>\n",
       "      <td>dam</td>\n",
       "      <td>communal standpipe multiple</td>\n",
       "      <td>functional</td>\n",
       "      <td>4</td>\n",
       "    </tr>\n",
       "    <tr>\n",
       "      <th>3</th>\n",
       "      <td>0.0</td>\n",
       "      <td>263</td>\n",
       "      <td>UNICEF</td>\n",
       "      <td>38.486161</td>\n",
       "      <td>-11.155298</td>\n",
       "      <td>Ruvuma / Southern Coast</td>\n",
       "      <td>Mahakamani</td>\n",
       "      <td>90</td>\n",
       "      <td>63</td>\n",
       "      <td>Nanyumbu</td>\n",
       "      <td>...</td>\n",
       "      <td>True</td>\n",
       "      <td>1986</td>\n",
       "      <td>submersible</td>\n",
       "      <td>user-group</td>\n",
       "      <td>good</td>\n",
       "      <td>dry</td>\n",
       "      <td>machine dbh</td>\n",
       "      <td>communal standpipe multiple</td>\n",
       "      <td>needs_repair</td>\n",
       "      <td>27</td>\n",
       "    </tr>\n",
       "    <tr>\n",
       "      <th>5</th>\n",
       "      <td>20.0</td>\n",
       "      <td>0</td>\n",
       "      <td>DWE</td>\n",
       "      <td>39.172796</td>\n",
       "      <td>-4.765587</td>\n",
       "      <td>Pangani</td>\n",
       "      <td>Moa/Mwereme</td>\n",
       "      <td>4</td>\n",
       "      <td>8</td>\n",
       "      <td>Mkinga</td>\n",
       "      <td>...</td>\n",
       "      <td>True</td>\n",
       "      <td>2009</td>\n",
       "      <td>submersible</td>\n",
       "      <td>user-group</td>\n",
       "      <td>salty</td>\n",
       "      <td>enough</td>\n",
       "      <td>other</td>\n",
       "      <td>communal standpipe multiple</td>\n",
       "      <td>functional</td>\n",
       "      <td>2</td>\n",
       "    </tr>\n",
       "  </tbody>\n",
       "</table>\n",
       "<p>5 rows × 23 columns</p>\n",
       "</div>"
      ],
      "text/plain": [
       "   amount_tsh  gps_height     installer  longitude   latitude  \\\n",
       "0      6000.0        1390         Roman  34.938093  -9.856322   \n",
       "1         0.0        1399       GRUMETI  34.698766  -2.147466   \n",
       "2        25.0         686  World vision  37.460664  -3.821329   \n",
       "3         0.0         263        UNICEF  38.486161 -11.155298   \n",
       "5        20.0           0           DWE  39.172796  -4.765587   \n",
       "\n",
       "                     basin   subvillage  region_code  district_code  \\\n",
       "0               Lake Nyasa     Mnyusi B           11              5   \n",
       "1            Lake Victoria      Nyamara           20              2   \n",
       "2                  Pangani      Majengo           21              4   \n",
       "3  Ruvuma / Southern Coast   Mahakamani           90             63   \n",
       "5                  Pangani  Moa/Mwereme            4              8   \n",
       "\n",
       "         lga  ... permit  construction_year extraction_type_class  \\\n",
       "0     Ludewa  ...  False               1999               gravity   \n",
       "1  Serengeti  ...   True               2010               gravity   \n",
       "2  Simanjiro  ...   True               2009               gravity   \n",
       "3   Nanyumbu  ...   True               1986           submersible   \n",
       "5     Mkinga  ...   True               2009           submersible   \n",
       "\n",
       "  management_group  quality_group      quantity                source  \\\n",
       "0       user-group           good        enough                spring   \n",
       "1       user-group           good  insufficient  rainwater harvesting   \n",
       "2       user-group           good        enough                   dam   \n",
       "3       user-group           good           dry           machine dbh   \n",
       "5       user-group          salty        enough                 other   \n",
       "\n",
       "               waterpoint_type  status_group age  \n",
       "0           communal standpipe    functional  12  \n",
       "1           communal standpipe    functional   3  \n",
       "2  communal standpipe multiple    functional   4  \n",
       "3  communal standpipe multiple  needs_repair  27  \n",
       "5  communal standpipe multiple    functional   2  \n",
       "\n",
       "[5 rows x 23 columns]"
      ]
     },
     "execution_count": 32,
     "metadata": {},
     "output_type": "execute_result"
    }
   ],
   "source": [
    "clean_train_set = feature_cleaner.fit_transform(train_set)\n",
    "clean_train_set.head()"
   ]
  },
  {
   "cell_type": "code",
   "execution_count": 33,
   "metadata": {},
   "outputs": [],
   "source": [
    "#X and Y\n",
    "X = clean_train_set.drop('status_group', axis=1)\n",
    "y = clean_train_set['status_group']"
   ]
  },
  {
   "cell_type": "code",
   "execution_count": 34,
   "metadata": {},
   "outputs": [
    {
     "data": {
      "text/plain": [
       "functional      27864\n",
       "needs_repair    23092\n",
       "Name: status_group, dtype: int64"
      ]
     },
     "execution_count": 34,
     "metadata": {},
     "output_type": "execute_result"
    }
   ],
   "source": [
    "y.value_counts()"
   ]
  },
  {
   "attachments": {},
   "cell_type": "markdown",
   "metadata": {},
   "source": [
    "**Actual Preprocessing Pipeline**"
   ]
  },
  {
   "cell_type": "code",
   "execution_count": 35,
   "metadata": {},
   "outputs": [
    {
     "data": {
      "text/html": [
       "<div>\n",
       "<style scoped>\n",
       "    .dataframe tbody tr th:only-of-type {\n",
       "        vertical-align: middle;\n",
       "    }\n",
       "\n",
       "    .dataframe tbody tr th {\n",
       "        vertical-align: top;\n",
       "    }\n",
       "\n",
       "    .dataframe thead th {\n",
       "        text-align: right;\n",
       "    }\n",
       "</style>\n",
       "<table border=\"1\" class=\"dataframe\">\n",
       "  <thead>\n",
       "    <tr style=\"text-align: right;\">\n",
       "      <th></th>\n",
       "      <th>amount_tsh</th>\n",
       "      <th>gps_height</th>\n",
       "      <th>installer</th>\n",
       "      <th>longitude</th>\n",
       "      <th>latitude</th>\n",
       "      <th>basin</th>\n",
       "      <th>subvillage</th>\n",
       "      <th>region_code</th>\n",
       "      <th>district_code</th>\n",
       "      <th>lga</th>\n",
       "      <th>...</th>\n",
       "      <th>scheme_management</th>\n",
       "      <th>permit</th>\n",
       "      <th>construction_year</th>\n",
       "      <th>extraction_type_class</th>\n",
       "      <th>management_group</th>\n",
       "      <th>quality_group</th>\n",
       "      <th>quantity</th>\n",
       "      <th>source</th>\n",
       "      <th>waterpoint_type</th>\n",
       "      <th>age</th>\n",
       "    </tr>\n",
       "  </thead>\n",
       "  <tbody>\n",
       "    <tr>\n",
       "      <th>46491</th>\n",
       "      <td>0.0</td>\n",
       "      <td>1146</td>\n",
       "      <td>DWE</td>\n",
       "      <td>33.212282</td>\n",
       "      <td>-2.129424</td>\n",
       "      <td>Lake Victoria</td>\n",
       "      <td>Buhoro</td>\n",
       "      <td>20</td>\n",
       "      <td>4</td>\n",
       "      <td>Bunda</td>\n",
       "      <td>...</td>\n",
       "      <td>WUG</td>\n",
       "      <td>False</td>\n",
       "      <td>1999</td>\n",
       "      <td>other</td>\n",
       "      <td>user-group</td>\n",
       "      <td>salty</td>\n",
       "      <td>dry</td>\n",
       "      <td>shallow well</td>\n",
       "      <td>other</td>\n",
       "      <td>14</td>\n",
       "    </tr>\n",
       "    <tr>\n",
       "      <th>29041</th>\n",
       "      <td>500.0</td>\n",
       "      <td>1518</td>\n",
       "      <td>Shipo</td>\n",
       "      <td>35.061051</td>\n",
       "      <td>-8.864005</td>\n",
       "      <td>Rufiji</td>\n",
       "      <td>Ilengititu</td>\n",
       "      <td>11</td>\n",
       "      <td>4</td>\n",
       "      <td>Njombe</td>\n",
       "      <td>...</td>\n",
       "      <td>VWC</td>\n",
       "      <td>False</td>\n",
       "      <td>2008</td>\n",
       "      <td>rope pump</td>\n",
       "      <td>user-group</td>\n",
       "      <td>good</td>\n",
       "      <td>enough</td>\n",
       "      <td>hand dtw</td>\n",
       "      <td>hand pump</td>\n",
       "      <td>3</td>\n",
       "    </tr>\n",
       "    <tr>\n",
       "      <th>6098</th>\n",
       "      <td>0.0</td>\n",
       "      <td>103</td>\n",
       "      <td>District Council</td>\n",
       "      <td>39.450761</td>\n",
       "      <td>-10.033486</td>\n",
       "      <td>Ruvuma / Southern Coast</td>\n",
       "      <td>Milola</td>\n",
       "      <td>80</td>\n",
       "      <td>23</td>\n",
       "      <td>Lindi Rural</td>\n",
       "      <td>...</td>\n",
       "      <td>VWC</td>\n",
       "      <td>False</td>\n",
       "      <td>2004</td>\n",
       "      <td>gravity</td>\n",
       "      <td>user-group</td>\n",
       "      <td>good</td>\n",
       "      <td>enough</td>\n",
       "      <td>river</td>\n",
       "      <td>communal standpipe</td>\n",
       "      <td>9</td>\n",
       "    </tr>\n",
       "    <tr>\n",
       "      <th>44610</th>\n",
       "      <td>0.0</td>\n",
       "      <td>0</td>\n",
       "      <td>DWE</td>\n",
       "      <td>33.105349</td>\n",
       "      <td>-2.420292</td>\n",
       "      <td>Lake Victoria</td>\n",
       "      <td>Kiloleli</td>\n",
       "      <td>19</td>\n",
       "      <td>2</td>\n",
       "      <td>Magu</td>\n",
       "      <td>...</td>\n",
       "      <td>VWC</td>\n",
       "      <td>True</td>\n",
       "      <td>0</td>\n",
       "      <td>handpump</td>\n",
       "      <td>user-group</td>\n",
       "      <td>good</td>\n",
       "      <td>insufficient</td>\n",
       "      <td>shallow well</td>\n",
       "      <td>hand pump</td>\n",
       "      <td>2011</td>\n",
       "    </tr>\n",
       "    <tr>\n",
       "      <th>23657</th>\n",
       "      <td>0.0</td>\n",
       "      <td>1386</td>\n",
       "      <td>DWE</td>\n",
       "      <td>34.582432</td>\n",
       "      <td>-8.900268</td>\n",
       "      <td>Rufiji</td>\n",
       "      <td>Lulanga</td>\n",
       "      <td>11</td>\n",
       "      <td>4</td>\n",
       "      <td>Njombe</td>\n",
       "      <td>...</td>\n",
       "      <td>WUA</td>\n",
       "      <td>True</td>\n",
       "      <td>1978</td>\n",
       "      <td>gravity</td>\n",
       "      <td>user-group</td>\n",
       "      <td>good</td>\n",
       "      <td>enough</td>\n",
       "      <td>river</td>\n",
       "      <td>communal standpipe</td>\n",
       "      <td>33</td>\n",
       "    </tr>\n",
       "  </tbody>\n",
       "</table>\n",
       "<p>5 rows × 22 columns</p>\n",
       "</div>"
      ],
      "text/plain": [
       "       amount_tsh  gps_height         installer  longitude   latitude  \\\n",
       "46491         0.0        1146               DWE  33.212282  -2.129424   \n",
       "29041       500.0        1518             Shipo  35.061051  -8.864005   \n",
       "6098          0.0         103  District Council  39.450761 -10.033486   \n",
       "44610         0.0           0               DWE  33.105349  -2.420292   \n",
       "23657         0.0        1386               DWE  34.582432  -8.900268   \n",
       "\n",
       "                         basin  subvillage  region_code  district_code  \\\n",
       "46491            Lake Victoria      Buhoro           20              4   \n",
       "29041                   Rufiji  Ilengititu           11              4   \n",
       "6098   Ruvuma / Southern Coast      Milola           80             23   \n",
       "44610            Lake Victoria    Kiloleli           19              2   \n",
       "23657                   Rufiji     Lulanga           11              4   \n",
       "\n",
       "               lga  ... scheme_management  permit construction_year  \\\n",
       "46491        Bunda  ...               WUG   False              1999   \n",
       "29041       Njombe  ...               VWC   False              2008   \n",
       "6098   Lindi Rural  ...               VWC   False              2004   \n",
       "44610         Magu  ...               VWC    True                 0   \n",
       "23657       Njombe  ...               WUA    True              1978   \n",
       "\n",
       "      extraction_type_class  management_group quality_group      quantity  \\\n",
       "46491                 other        user-group         salty           dry   \n",
       "29041             rope pump        user-group          good        enough   \n",
       "6098                gravity        user-group          good        enough   \n",
       "44610              handpump        user-group          good  insufficient   \n",
       "23657               gravity        user-group          good        enough   \n",
       "\n",
       "             source     waterpoint_type   age  \n",
       "46491  shallow well               other    14  \n",
       "29041      hand dtw           hand pump     3  \n",
       "6098          river  communal standpipe     9  \n",
       "44610  shallow well           hand pump  2011  \n",
       "23657         river  communal standpipe    33  \n",
       "\n",
       "[5 rows x 22 columns]"
      ]
     },
     "execution_count": 35,
     "metadata": {},
     "output_type": "execute_result"
    }
   ],
   "source": [
    "#train test split\n",
    "X_train, X_test, y_train, y_test = train_test_split(X, y, test_size=.25, stratify=y, random_state=42)\n",
    "X_train.head()"
   ]
  },
  {
   "cell_type": "code",
   "execution_count": 36,
   "metadata": {},
   "outputs": [],
   "source": [
    "#fit cleaned data into pipeline\n",
    "# clean_X_train = feature_cleaner.fit_transform(X_train).drop('status_group', axis=1)\n",
    "# clean_X_train.head()\n"
   ]
  },
  {
   "cell_type": "code",
   "execution_count": 37,
   "metadata": {},
   "outputs": [
    {
     "name": "stdout",
     "output_type": "stream",
     "text": [
      "Categorical:\n",
      " Index(['installer', 'basin', 'subvillage', 'lga', 'ward', 'scheme_management',\n",
      "       'permit', 'extraction_type_class', 'management_group', 'quality_group',\n",
      "       'quantity', 'source', 'waterpoint_type', 'status_group'],\n",
      "      dtype='object')\n",
      "Numerical:\n",
      " Index(['amount_tsh', 'gps_height', 'longitude', 'latitude', 'region_code',\n",
      "       'district_code', 'population', 'construction_year', 'age'],\n",
      "      dtype='object')\n"
     ]
    }
   ],
   "source": [
    "# reassign column groups\n",
    "cat_cols = clean_train_set.select_dtypes(include='object').columns\n",
    "num_cols = clean_train_set.select_dtypes(include='number').columns\n",
    "print('Categorical:\\n', cat_cols)\n",
    "print('Numerical:\\n', num_cols)"
   ]
  },
  {
   "cell_type": "code",
   "execution_count": 38,
   "metadata": {},
   "outputs": [
    {
     "data": {
      "text/plain": [
       "38217"
      ]
     },
     "execution_count": 38,
     "metadata": {},
     "output_type": "execute_result"
    }
   ],
   "source": [
    "len(y_train)"
   ]
  },
  {
   "cell_type": "code",
   "execution_count": 39,
   "metadata": {},
   "outputs": [
    {
     "data": {
      "text/plain": [
       "array([[1],\n",
       "       [0],\n",
       "       [0],\n",
       "       ...,\n",
       "       [1],\n",
       "       [0],\n",
       "       [0]])"
      ]
     },
     "execution_count": 39,
     "metadata": {},
     "output_type": "execute_result"
    }
   ],
   "source": [
    "#label encode target\n",
    "le = LabelEncoder()\n",
    "y_train = le.fit_transform(y_train)\n",
    "y_train = y_train.reshape([-1,1])\n",
    "y_train"
   ]
  },
  {
   "attachments": {},
   "cell_type": "markdown",
   "metadata": {},
   "source": [
    "### Modelling and Evaluation "
   ]
  },
  {
   "attachments": {},
   "cell_type": "markdown",
   "metadata": {},
   "source": [
    "The models to be built and evaluated are:\n",
    "1. `logistic regression` (baseline)\n",
    "2. `decision tree classifier`\n",
    "3. `random forest classifier`\n",
    "4. `knn classifier`"
   ]
  },
  {
   "attachments": {},
   "cell_type": "markdown",
   "metadata": {},
   "source": [
    "**Modelling Pipelines**"
   ]
  },
  {
   "cell_type": "code",
   "execution_count": 40,
   "metadata": {},
   "outputs": [],
   "source": [
    "#Logistic Regression Pipeline\n",
    "logreg_pipe0 = Pipeline(steps=[\n",
    "    ('prep', preprocessor),\n",
    "    ('logreg', LogisticRegression(class_weight='balanced'))\n",
    "])"
   ]
  },
  {
   "cell_type": "code",
   "execution_count": 41,
   "metadata": {},
   "outputs": [
    {
     "data": {
      "text/plain": [
       "Pipeline(steps=[('prep',\n",
       "                 ColumnTransformer(transformers=[('num',\n",
       "                                                  Pipeline(steps=[('scaler',\n",
       "                                                                   StandardScaler())]),\n",
       "                                                  ['amount_tsh', 'gps_height',\n",
       "                                                   'longitude', 'latitude',\n",
       "                                                   'region_code',\n",
       "                                                   'district_code',\n",
       "                                                   'population',\n",
       "                                                   'construction_year',\n",
       "                                                   'age']),\n",
       "                                                 ('cat',\n",
       "                                                  Pipeline(steps=[('ohe',\n",
       "                                                                   OneHotEncoder(handle_unknown='ignore'))]),\n",
       "                                                  ['installer', 'basin',\n",
       "                                                   'subvillage', 'lga', 'ward',\n",
       "                                                   'scheme_management',\n",
       "                                                   'permit',\n",
       "                                                   'extraction_type_class',\n",
       "                                                   'management_group',\n",
       "                                                   'quality_group', 'quantity',\n",
       "                                                   'source',\n",
       "                                                   'waterpoint_type'])])),\n",
       "                ('logreg', LogisticRegression(class_weight='balanced'))])"
      ]
     },
     "execution_count": 41,
     "metadata": {},
     "output_type": "execute_result"
    }
   ],
   "source": [
    "logreg_pipe0.fit(X_train, y_train)"
   ]
  },
  {
   "cell_type": "code",
   "execution_count": 42,
   "metadata": {},
   "outputs": [
    {
     "name": "stdout",
     "output_type": "stream",
     "text": [
      "[0.85640925 0.85261505 0.84974161 0.85546543 0.85255446]\n",
      "Train Accuracy 0.8533571598371328\n",
      "\n",
      "\n",
      "[0.78663004 0.78388278 0.7960225  0.79196651 0.7804527 ]\n",
      "Cross-Validation Accuracy 0.7877909063765403\n",
      "\n",
      "\n",
      "Training Recall: 0.8218286204945148\n",
      "Test Recall: 0.7436916589028589\n"
     ]
    },
    {
     "data": {
      "image/png": "[encoded data removed]",
      "text/plain": [
       "<Figure size 432x288 with 2 Axes>"
      ]
     },
     "metadata": {
      "needs_background": "light"
     },
     "output_type": "display_data"
    }
   ],
   "source": [
    "cross_val_evaluate(logreg_pipe0, X_train, y_train)"
   ]
  },
  {
   "cell_type": "code",
   "execution_count": 43,
   "metadata": {},
   "outputs": [],
   "source": [
    "#Decision Tree pipeline\n",
    "d_tree_pipe0 = Pipeline(steps=[\n",
    "    ('prep', preprocessor),\n",
    "    ('d_tree0', DecisionTreeClassifier(random_state=42,\n",
    "                                       max_depth=10,\n",
    "                                       class_weight='balanced'))\n",
    "])"
   ]
  },
  {
   "cell_type": "code",
   "execution_count": 44,
   "metadata": {},
   "outputs": [
    {
     "data": {
      "text/plain": [
       "Pipeline(steps=[('prep',\n",
       "                 ColumnTransformer(transformers=[('num',\n",
       "                                                  Pipeline(steps=[('scaler',\n",
       "                                                                   StandardScaler())]),\n",
       "                                                  ['amount_tsh', 'gps_height',\n",
       "                                                   'longitude', 'latitude',\n",
       "                                                   'region_code',\n",
       "                                                   'district_code',\n",
       "                                                   'population',\n",
       "                                                   'construction_year',\n",
       "                                                   'age']),\n",
       "                                                 ('cat',\n",
       "                                                  Pipeline(steps=[('ohe',\n",
       "                                                                   OneHotEncoder(handle_unknown='ignore'))]),\n",
       "                                                  ['installer', 'basin',\n",
       "                                                   'subvillage', 'lga', 'ward',\n",
       "                                                   'scheme_management',\n",
       "                                                   'permit',\n",
       "                                                   'extraction_type_class',\n",
       "                                                   'management_group',\n",
       "                                                   'quality_group', 'quantity',\n",
       "                                                   'source',\n",
       "                                                   'waterpoint_type'])])),\n",
       "                ('d_tree0',\n",
       "                 DecisionTreeClassifier(class_weight='balanced', max_depth=10,\n",
       "                                        random_state=42))])"
      ]
     },
     "execution_count": 44,
     "metadata": {},
     "output_type": "execute_result"
    }
   ],
   "source": [
    "#fit d_tree0\n",
    "d_tree_pipe0.fit(X_train, y_train)"
   ]
  },
  {
   "cell_type": "code",
   "execution_count": 45,
   "metadata": {},
   "outputs": [
    {
     "name": "stdout",
     "output_type": "stream",
     "text": [
      "[0.77928237 0.77470317 0.78007457 0.77961667 0.76692615]\n",
      "Train Accuracy 0.7761205860243526\n",
      "\n",
      "\n",
      "[0.75837258 0.75130822 0.76409787 0.75886432 0.74604213]\n",
      "Cross-Validation Accuracy 0.7557370226142772\n",
      "\n",
      "\n",
      "Training Recall: 0.7027971149142014\n",
      "Test Recall: 0.67989064868531\n"
     ]
    },
    {
     "data": {
      "image/png": "[encoded data removed]",
      "text/plain": [
       "<Figure size 432x288 with 2 Axes>"
      ]
     },
     "metadata": {
      "needs_background": "light"
     },
     "output_type": "display_data"
    }
   ],
   "source": [
    "#cross validate and evaluate\n",
    "cross_val_evaluate(d_tree_pipe0, X_train, y_train)"
   ]
  },
  {
   "cell_type": "code",
   "execution_count": 46,
   "metadata": {},
   "outputs": [],
   "source": [
    "#Random Forest Pipeline\n",
    "rf_pipe0 = Pipeline(steps=[\n",
    "    ('prep', preprocessor),\n",
    "    ('rf0', RandomForestClassifier(max_depth=5,\n",
    "                                   n_estimators=50,\n",
    "                                   class_weight='balanced',\n",
    "                                   random_state=42))\n",
    "])"
   ]
  },
  {
   "cell_type": "code",
   "execution_count": 47,
   "metadata": {},
   "outputs": [
    {
     "data": {
      "text/plain": [
       "Pipeline(steps=[('prep',\n",
       "                 ColumnTransformer(transformers=[('num',\n",
       "                                                  Pipeline(steps=[('scaler',\n",
       "                                                                   StandardScaler())]),\n",
       "                                                  ['amount_tsh', 'gps_height',\n",
       "                                                   'longitude', 'latitude',\n",
       "                                                   'region_code',\n",
       "                                                   'district_code',\n",
       "                                                   'population',\n",
       "                                                   'construction_year',\n",
       "                                                   'age']),\n",
       "                                                 ('cat',\n",
       "                                                  Pipeline(steps=[('ohe',\n",
       "                                                                   OneHotEncoder(handle_unknown='ignore'))]),\n",
       "                                                  ['installer', 'basin',\n",
       "                                                   'subvillage', 'lga', 'ward',\n",
       "                                                   'scheme_management',\n",
       "                                                   'permit',\n",
       "                                                   'extraction_type_class',\n",
       "                                                   'management_group',\n",
       "                                                   'quality_group', 'quantity',\n",
       "                                                   'source',\n",
       "                                                   'waterpoint_type'])])),\n",
       "                ('rf0',\n",
       "                 RandomForestClassifier(class_weight='balanced', max_depth=5,\n",
       "                                        n_estimators=50, random_state=42))])"
      ]
     },
     "execution_count": 47,
     "metadata": {},
     "output_type": "execute_result"
    }
   ],
   "source": [
    "#fit random forest 0\n",
    "rf_pipe0.fit(X_train, y_train)"
   ]
  },
  {
   "cell_type": "code",
   "execution_count": 48,
   "metadata": {},
   "outputs": [
    {
     "name": "stdout",
     "output_type": "stream",
     "text": [
      "[0.70061819 0.7033003  0.69238569 0.67698044 0.69693203]\n",
      "Train Accuracy 0.6940433304015843\n",
      "\n",
      "\n",
      "[0.68524333 0.70185767 0.69750098 0.66766976 0.69187492]\n",
      "Cross-Validation Accuracy 0.688829331388349\n",
      "\n",
      "\n",
      "Training Recall: 0.7002138008889498\n",
      "Test Recall: 0.6928224236551496\n"
     ]
    },
    {
     "data": {
      "image/png": "[encoded data removed]",
      "text/plain": [
       "<Figure size 432x288 with 2 Axes>"
      ]
     },
     "metadata": {
      "needs_background": "light"
     },
     "output_type": "display_data"
    }
   ],
   "source": [
    "#cross validate / evaluate\n",
    "cross_val_evaluate(rf_pipe0, X_train, y_train)"
   ]
  },
  {
   "cell_type": "code",
   "execution_count": 49,
   "metadata": {},
   "outputs": [
    {
     "data": {
      "text/plain": [
       "Pipeline(steps=[('prep',\n",
       "                 ColumnTransformer(transformers=[('num',\n",
       "                                                  Pipeline(steps=[('scaler',\n",
       "                                                                   StandardScaler())]),\n",
       "                                                  ['amount_tsh', 'gps_height',\n",
       "                                                   'longitude', 'latitude',\n",
       "                                                   'region_code',\n",
       "                                                   'district_code',\n",
       "                                                   'population',\n",
       "                                                   'construction_year',\n",
       "                                                   'age']),\n",
       "                                                 ('cat',\n",
       "                                                  Pipeline(steps=[('ohe',\n",
       "                                                                   OneHotEncoder(handle_unknown='ignore'))]),\n",
       "                                                  ['installer', 'basin',\n",
       "                                                   'subvillage', 'lga', 'ward',\n",
       "                                                   'scheme_management',\n",
       "                                                   'permit',\n",
       "                                                   'extraction_type_class',\n",
       "                                                   'management_group',\n",
       "                                                   'quality_group', 'quantity',\n",
       "                                                   'source',\n",
       "                                                   'waterpoint_type'])])),\n",
       "                ('knn_pipe0', KNeighborsClassifier())])"
      ]
     },
     "execution_count": 49,
     "metadata": {},
     "output_type": "execute_result"
    }
   ],
   "source": [
    "#KNN pipeline\n",
    "knn_pipe0 = Pipeline(steps=[\n",
    "    ('prep', preprocessor),\n",
    "    ('knn_pipe0', KNeighborsClassifier())\n",
    "])\n",
    "#fit knn\n",
    "knn_pipe0.fit(X_train, y_train)"
   ]
  },
  {
   "cell_type": "code",
   "execution_count": 50,
   "metadata": {},
   "outputs": [
    {
     "name": "stdout",
     "output_type": "stream",
     "text": [
      "[0.85274589 0.85366173 0.85337215 0.85206385 0.85494211]\n",
      "Train Accuracy 0.8533571427200535\n",
      "\n",
      "\n",
      "[0.78584511 0.78506018 0.78660212 0.79013476 0.78660212]\n",
      "Cross-Validation Accuracy 0.7868488576400579\n",
      "\n",
      "\n",
      "Training Recall: 0.8013308751645006\n",
      "Test Recall: 0.7250421479727291\n"
     ]
    },
    {
     "data": {
      "image/png": "[encoded data removed]",
      "text/plain": [
       "<Figure size 432x288 with 2 Axes>"
      ]
     },
     "metadata": {
      "needs_background": "light"
     },
     "output_type": "display_data"
    }
   ],
   "source": [
    "#evaluate KNN\n",
    "cross_val_evaluate(knn_pipe0, X_train, y_train)"
   ]
  },
  {
   "cell_type": "code",
   "execution_count": null,
   "metadata": {},
   "outputs": [],
   "source": []
  },
  {
   "attachments": {},
   "cell_type": "markdown",
   "metadata": {},
   "source": [
    "### Conclusion"
   ]
  },
  {
   "attachments": {},
   "cell_type": "markdown",
   "metadata": {},
   "source": [
    "* The Baseline Logistic Regression performs well on our classification metrics i.e **accuracy** and **recall**\n",
    "Accuracy is a valid metric as the class imbalance is negligible as seen in the data exploration\n",
    "* The KNN model performs similarly to the Logistic Regression. However, due to its exponentially increasing time complexity, this model has a much longer runtime\n",
    "The *runtime* does not justify using this model."
   ]
  },
  {
   "cell_type": "code",
   "execution_count": null,
   "metadata": {},
   "outputs": [],
   "source": []
  }
 ],
 "metadata": {
  "kernelspec": {
   "display_name": "learn-env",
   "language": "python",
   "name": "python3"
  },
  "language_info": {
   "codemirror_mode": {
    "name": "ipython",
    "version": 3
   },
   "file_extension": ".py",
   "mimetype": "text/x-python",
   "name": "python",
   "nbconvert_exporter": "python",
   "pygments_lexer": "ipython3",
   "version": "3.8.5"
  },
  "orig_nbformat": 4
 },
 "nbformat": 4,
 "nbformat_minor": 2
}
